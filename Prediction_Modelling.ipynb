{
 "cells": [
  {
   "cell_type": "markdown",
   "id": "753045bf",
   "metadata": {},
   "source": [
    "# Exploratory data Analysis"
   ]
  },
  {
   "cell_type": "code",
   "execution_count": 1,
   "id": "98dcc0cb",
   "metadata": {},
   "outputs": [],
   "source": [
    "import numpy as np # linear algebra\n",
    "import pandas as pd # data processing, CSV file I/O (e.g. pd.read_csv)\n",
    "import matplotlib.pyplot as plt # Data Visualisation\n",
    "import seaborn as sns # Data Visualisation\n",
    "from collections import Counter as c   #importing collections\n",
    "from matplotlib.pyplot import plot  #importing matplotlib llibrary\n",
    "from sklearn.linear_model import LogisticRegression\n",
    "from sklearn.metrics import accuracy_score, confusion_matrix\n",
    "\n",
    "tableau20 = [(31, 119, 180), (174, 199, 232), (255, 127, 14), (255, 187, 120),    \n",
    "             (44, 160, 44), (152, 223, 138), (214, 39, 40), (255, 152, 150),    \n",
    "             (148, 103, 189), (197, 176, 213), (140, 86, 75), (196, 156, 148),    \n",
    "             (227, 119, 194), (247, 182, 210), (127, 127, 127), (199, 199, 199),    \n",
    "             (188, 189, 34), (219, 219, 141), (23, 190, 207), (158, 218, 229)]  \n",
    "\n",
    "for i in range(len(tableau20)):    \n",
    "    r, g, b = tableau20[i]    \n",
    "    tableau20[i] = (r / 255., g / 255., b / 255.)"
   ]
  },
  {
   "cell_type": "code",
   "execution_count": 2,
   "id": "22b79d12",
   "metadata": {},
   "outputs": [
    {
     "data": {
      "text/plain": [
       "(3002458, 11)"
      ]
     },
     "execution_count": 2,
     "metadata": {},
     "output_type": "execute_result"
    }
   ],
   "source": [
    "df=pd.read_csv(\"h1b_kaggle.csv\")\n",
    "df.shape"
   ]
  },
  {
   "cell_type": "code",
   "execution_count": 3,
   "id": "c4c6c2ac",
   "metadata": {},
   "outputs": [
    {
     "data": {
      "text/html": [
       "<div>\n",
       "<style scoped>\n",
       "    .dataframe tbody tr th:only-of-type {\n",
       "        vertical-align: middle;\n",
       "    }\n",
       "\n",
       "    .dataframe tbody tr th {\n",
       "        vertical-align: top;\n",
       "    }\n",
       "\n",
       "    .dataframe thead th {\n",
       "        text-align: right;\n",
       "    }\n",
       "</style>\n",
       "<table border=\"1\" class=\"dataframe\">\n",
       "  <thead>\n",
       "    <tr style=\"text-align: right;\">\n",
       "      <th></th>\n",
       "      <th>Unnamed: 0</th>\n",
       "      <th>CASE_STATUS</th>\n",
       "      <th>EMPLOYER_NAME</th>\n",
       "      <th>SOC_NAME</th>\n",
       "      <th>JOB_TITLE</th>\n",
       "      <th>FULL_TIME_POSITION</th>\n",
       "      <th>PREVAILING_WAGE</th>\n",
       "      <th>YEAR</th>\n",
       "      <th>WORKSITE</th>\n",
       "      <th>lon</th>\n",
       "      <th>lat</th>\n",
       "    </tr>\n",
       "  </thead>\n",
       "  <tbody>\n",
       "    <tr>\n",
       "      <th>0</th>\n",
       "      <td>1</td>\n",
       "      <td>CERTIFIED-WITHDRAWN</td>\n",
       "      <td>UNIVERSITY OF MICHIGAN</td>\n",
       "      <td>BIOCHEMISTS AND BIOPHYSICISTS</td>\n",
       "      <td>POSTDOCTORAL RESEARCH FELLOW</td>\n",
       "      <td>N</td>\n",
       "      <td>36067.0</td>\n",
       "      <td>2016.0</td>\n",
       "      <td>ANN ARBOR, MICHIGAN</td>\n",
       "      <td>-83.743038</td>\n",
       "      <td>42.280826</td>\n",
       "    </tr>\n",
       "    <tr>\n",
       "      <th>1</th>\n",
       "      <td>2</td>\n",
       "      <td>CERTIFIED-WITHDRAWN</td>\n",
       "      <td>GOODMAN NETWORKS, INC.</td>\n",
       "      <td>CHIEF EXECUTIVES</td>\n",
       "      <td>CHIEF OPERATING OFFICER</td>\n",
       "      <td>Y</td>\n",
       "      <td>242674.0</td>\n",
       "      <td>2016.0</td>\n",
       "      <td>PLANO, TEXAS</td>\n",
       "      <td>-96.698886</td>\n",
       "      <td>33.019843</td>\n",
       "    </tr>\n",
       "    <tr>\n",
       "      <th>2</th>\n",
       "      <td>3</td>\n",
       "      <td>CERTIFIED-WITHDRAWN</td>\n",
       "      <td>PORTS AMERICA GROUP, INC.</td>\n",
       "      <td>CHIEF EXECUTIVES</td>\n",
       "      <td>CHIEF PROCESS OFFICER</td>\n",
       "      <td>Y</td>\n",
       "      <td>193066.0</td>\n",
       "      <td>2016.0</td>\n",
       "      <td>JERSEY CITY, NEW JERSEY</td>\n",
       "      <td>-74.077642</td>\n",
       "      <td>40.728158</td>\n",
       "    </tr>\n",
       "    <tr>\n",
       "      <th>3</th>\n",
       "      <td>4</td>\n",
       "      <td>CERTIFIED-WITHDRAWN</td>\n",
       "      <td>GATES CORPORATION, A WHOLLY-OWNED SUBSIDIARY O...</td>\n",
       "      <td>CHIEF EXECUTIVES</td>\n",
       "      <td>REGIONAL PRESIDEN, AMERICAS</td>\n",
       "      <td>Y</td>\n",
       "      <td>220314.0</td>\n",
       "      <td>2016.0</td>\n",
       "      <td>DENVER, COLORADO</td>\n",
       "      <td>-104.990251</td>\n",
       "      <td>39.739236</td>\n",
       "    </tr>\n",
       "    <tr>\n",
       "      <th>4</th>\n",
       "      <td>5</td>\n",
       "      <td>WITHDRAWN</td>\n",
       "      <td>PEABODY INVESTMENTS CORP.</td>\n",
       "      <td>CHIEF EXECUTIVES</td>\n",
       "      <td>PRESIDENT MONGOLIA AND INDIA</td>\n",
       "      <td>Y</td>\n",
       "      <td>157518.4</td>\n",
       "      <td>2016.0</td>\n",
       "      <td>ST. LOUIS, MISSOURI</td>\n",
       "      <td>-90.199404</td>\n",
       "      <td>38.627003</td>\n",
       "    </tr>\n",
       "  </tbody>\n",
       "</table>\n",
       "</div>"
      ],
      "text/plain": [
       "   Unnamed: 0          CASE_STATUS  \\\n",
       "0           1  CERTIFIED-WITHDRAWN   \n",
       "1           2  CERTIFIED-WITHDRAWN   \n",
       "2           3  CERTIFIED-WITHDRAWN   \n",
       "3           4  CERTIFIED-WITHDRAWN   \n",
       "4           5            WITHDRAWN   \n",
       "\n",
       "                                       EMPLOYER_NAME  \\\n",
       "0                             UNIVERSITY OF MICHIGAN   \n",
       "1                             GOODMAN NETWORKS, INC.   \n",
       "2                          PORTS AMERICA GROUP, INC.   \n",
       "3  GATES CORPORATION, A WHOLLY-OWNED SUBSIDIARY O...   \n",
       "4                          PEABODY INVESTMENTS CORP.   \n",
       "\n",
       "                        SOC_NAME                     JOB_TITLE  \\\n",
       "0  BIOCHEMISTS AND BIOPHYSICISTS  POSTDOCTORAL RESEARCH FELLOW   \n",
       "1               CHIEF EXECUTIVES       CHIEF OPERATING OFFICER   \n",
       "2               CHIEF EXECUTIVES         CHIEF PROCESS OFFICER   \n",
       "3               CHIEF EXECUTIVES   REGIONAL PRESIDEN, AMERICAS   \n",
       "4               CHIEF EXECUTIVES  PRESIDENT MONGOLIA AND INDIA   \n",
       "\n",
       "  FULL_TIME_POSITION  PREVAILING_WAGE    YEAR                 WORKSITE  \\\n",
       "0                  N          36067.0  2016.0      ANN ARBOR, MICHIGAN   \n",
       "1                  Y         242674.0  2016.0             PLANO, TEXAS   \n",
       "2                  Y         193066.0  2016.0  JERSEY CITY, NEW JERSEY   \n",
       "3                  Y         220314.0  2016.0         DENVER, COLORADO   \n",
       "4                  Y         157518.4  2016.0      ST. LOUIS, MISSOURI   \n",
       "\n",
       "          lon        lat  \n",
       "0  -83.743038  42.280826  \n",
       "1  -96.698886  33.019843  \n",
       "2  -74.077642  40.728158  \n",
       "3 -104.990251  39.739236  \n",
       "4  -90.199404  38.627003  "
      ]
     },
     "execution_count": 3,
     "metadata": {},
     "output_type": "execute_result"
    }
   ],
   "source": [
    "df.head()"
   ]
  },
  {
   "cell_type": "code",
   "execution_count": 4,
   "id": "1ac7da35",
   "metadata": {},
   "outputs": [
    {
     "data": {
      "text/html": [
       "<div>\n",
       "<style scoped>\n",
       "    .dataframe tbody tr th:only-of-type {\n",
       "        vertical-align: middle;\n",
       "    }\n",
       "\n",
       "    .dataframe tbody tr th {\n",
       "        vertical-align: top;\n",
       "    }\n",
       "\n",
       "    .dataframe thead th {\n",
       "        text-align: right;\n",
       "    }\n",
       "</style>\n",
       "<table border=\"1\" class=\"dataframe\">\n",
       "  <thead>\n",
       "    <tr style=\"text-align: right;\">\n",
       "      <th></th>\n",
       "      <th>Unnamed: 0</th>\n",
       "      <th>PREVAILING_WAGE</th>\n",
       "      <th>YEAR</th>\n",
       "      <th>lon</th>\n",
       "      <th>lat</th>\n",
       "    </tr>\n",
       "  </thead>\n",
       "  <tbody>\n",
       "    <tr>\n",
       "      <th>count</th>\n",
       "      <td>3.002458e+06</td>\n",
       "      <td>3.002373e+06</td>\n",
       "      <td>3.002445e+06</td>\n",
       "      <td>2.895216e+06</td>\n",
       "      <td>2.895216e+06</td>\n",
       "    </tr>\n",
       "    <tr>\n",
       "      <th>mean</th>\n",
       "      <td>1.501230e+06</td>\n",
       "      <td>1.469984e+05</td>\n",
       "      <td>2.013855e+03</td>\n",
       "      <td>-9.213441e+01</td>\n",
       "      <td>3.816054e+01</td>\n",
       "    </tr>\n",
       "    <tr>\n",
       "      <th>std</th>\n",
       "      <td>8.667351e+05</td>\n",
       "      <td>5.287609e+06</td>\n",
       "      <td>1.680612e+00</td>\n",
       "      <td>1.965591e+01</td>\n",
       "      <td>4.672835e+00</td>\n",
       "    </tr>\n",
       "    <tr>\n",
       "      <th>min</th>\n",
       "      <td>1.000000e+00</td>\n",
       "      <td>0.000000e+00</td>\n",
       "      <td>2.011000e+03</td>\n",
       "      <td>-1.578583e+02</td>\n",
       "      <td>1.343719e+01</td>\n",
       "    </tr>\n",
       "    <tr>\n",
       "      <th>25%</th>\n",
       "      <td>7.506152e+05</td>\n",
       "      <td>5.437100e+04</td>\n",
       "      <td>2.012000e+03</td>\n",
       "      <td>-1.119261e+02</td>\n",
       "      <td>3.416536e+01</td>\n",
       "    </tr>\n",
       "    <tr>\n",
       "      <th>50%</th>\n",
       "      <td>1.501230e+06</td>\n",
       "      <td>6.502100e+04</td>\n",
       "      <td>2.014000e+03</td>\n",
       "      <td>-8.615862e+01</td>\n",
       "      <td>3.910312e+01</td>\n",
       "    </tr>\n",
       "    <tr>\n",
       "      <th>75%</th>\n",
       "      <td>2.251844e+06</td>\n",
       "      <td>8.143200e+04</td>\n",
       "      <td>2.015000e+03</td>\n",
       "      <td>-7.551381e+01</td>\n",
       "      <td>4.088374e+01</td>\n",
       "    </tr>\n",
       "    <tr>\n",
       "      <th>max</th>\n",
       "      <td>3.002458e+06</td>\n",
       "      <td>6.997607e+09</td>\n",
       "      <td>2.016000e+03</td>\n",
       "      <td>1.457298e+02</td>\n",
       "      <td>6.483778e+01</td>\n",
       "    </tr>\n",
       "  </tbody>\n",
       "</table>\n",
       "</div>"
      ],
      "text/plain": [
       "         Unnamed: 0  PREVAILING_WAGE          YEAR           lon           lat\n",
       "count  3.002458e+06     3.002373e+06  3.002445e+06  2.895216e+06  2.895216e+06\n",
       "mean   1.501230e+06     1.469984e+05  2.013855e+03 -9.213441e+01  3.816054e+01\n",
       "std    8.667351e+05     5.287609e+06  1.680612e+00  1.965591e+01  4.672835e+00\n",
       "min    1.000000e+00     0.000000e+00  2.011000e+03 -1.578583e+02  1.343719e+01\n",
       "25%    7.506152e+05     5.437100e+04  2.012000e+03 -1.119261e+02  3.416536e+01\n",
       "50%    1.501230e+06     6.502100e+04  2.014000e+03 -8.615862e+01  3.910312e+01\n",
       "75%    2.251844e+06     8.143200e+04  2.015000e+03 -7.551381e+01  4.088374e+01\n",
       "max    3.002458e+06     6.997607e+09  2.016000e+03  1.457298e+02  6.483778e+01"
      ]
     },
     "execution_count": 4,
     "metadata": {},
     "output_type": "execute_result"
    }
   ],
   "source": [
    "df.describe()"
   ]
  },
  {
   "cell_type": "code",
   "execution_count": 5,
   "id": "85c66166",
   "metadata": {},
   "outputs": [
    {
     "name": "stdout",
     "output_type": "stream",
     "text": [
      "<class 'pandas.core.frame.DataFrame'>\n",
      "RangeIndex: 3002458 entries, 0 to 3002457\n",
      "Data columns (total 11 columns):\n",
      " #   Column              Dtype  \n",
      "---  ------              -----  \n",
      " 0   Unnamed: 0          int64  \n",
      " 1   CASE_STATUS         object \n",
      " 2   EMPLOYER_NAME       object \n",
      " 3   SOC_NAME            object \n",
      " 4   JOB_TITLE           object \n",
      " 5   FULL_TIME_POSITION  object \n",
      " 6   PREVAILING_WAGE     float64\n",
      " 7   YEAR                float64\n",
      " 8   WORKSITE            object \n",
      " 9   lon                 float64\n",
      " 10  lat                 float64\n",
      "dtypes: float64(4), int64(1), object(6)\n",
      "memory usage: 252.0+ MB\n"
     ]
    }
   ],
   "source": [
    "df.info()"
   ]
  },
  {
   "cell_type": "code",
   "execution_count": 6,
   "id": "bc6b6535",
   "metadata": {},
   "outputs": [
    {
     "name": "stdout",
     "output_type": "stream",
     "text": [
      "[2016. 2015. 2014. 2013. 2012. 2011.   nan]\n"
     ]
    }
   ],
   "source": [
    "print(df['YEAR'].unique())"
   ]
  },
  {
   "cell_type": "markdown",
   "id": "ff896180",
   "metadata": {},
   "source": [
    "# Data Visualization to get a better inference"
   ]
  },
  {
   "cell_type": "code",
   "execution_count": 7,
   "id": "a8466ac0",
   "metadata": {},
   "outputs": [
    {
     "data": {
      "image/png": "[encoded data removed]",
      "text/plain": [
       "<Figure size 720x504 with 1 Axes>"
      ]
     },
     "metadata": {
      "needs_background": "light"
     },
     "output_type": "display_data"
    }
   ],
   "source": [
    "plt.figure(figsize=(10,7))\n",
    "\n",
    "ax1 = df['EMPLOYER_NAME'][df['YEAR'] == 2011].groupby(df['EMPLOYER_NAME']).count().sort_values(ascending=False).head(10).plot(kind='barh', title = \"Top 10 Applicants in 2011\",\n",
    "                                                                                                                           color=tableau20)\n",
    "ax1.set_label(\"\")\n",
    "plt.show()"
   ]
  },
  {
   "cell_type": "code",
   "execution_count": 8,
   "id": "d5ea3392",
   "metadata": {},
   "outputs": [
    {
     "data": {
      "image/png": "[encoded data removed]",
      "text/plain": [
       "<Figure size 720x504 with 1 Axes>"
      ]
     },
     "metadata": {
      "needs_background": "light"
     },
     "output_type": "display_data"
    }
   ],
   "source": [
    "plt.figure(figsize=(10,7))\n",
    "\n",
    "ax1 = df['EMPLOYER_NAME'][df['YEAR'] == 2012].groupby(df['EMPLOYER_NAME']).count().sort_values(ascending=False).head(10).plot(kind='barh', title = \"Top 10 Applicants in 2012\",\n",
    "                                                                                                                           color=tableau20)\n",
    "ax1.set_label(\"\")\n",
    "plt.show()"
   ]
  },
  {
   "cell_type": "code",
   "execution_count": 9,
   "id": "0e1acd19",
   "metadata": {},
   "outputs": [
    {
     "data": {
      "image/png": "[encoded data removed]",
      "text/plain": [
       "<Figure size 720x504 with 1 Axes>"
      ]
     },
     "metadata": {
      "needs_background": "light"
     },
     "output_type": "display_data"
    }
   ],
   "source": [
    "plt.figure(figsize=(10,7))\n",
    "\n",
    "ax1 = df['EMPLOYER_NAME'][df['YEAR'] == 2013].groupby(df['EMPLOYER_NAME']).count().sort_values(ascending=False).head(10).plot(kind='barh', title = \"Top 10 Applicants in 2013\",\n",
    "                                                                                                                           color=tableau20)\n",
    "ax1.set_label(\"\")\n",
    "plt.show()"
   ]
  },
  {
   "cell_type": "code",
   "execution_count": 10,
   "id": "774eb90f",
   "metadata": {},
   "outputs": [
    {
     "data": {
      "image/png": "[encoded data removed]",
      "text/plain": [
       "<Figure size 720x504 with 1 Axes>"
      ]
     },
     "metadata": {
      "needs_background": "light"
     },
     "output_type": "display_data"
    }
   ],
   "source": [
    "plt.figure(figsize=(10,7))\n",
    "\n",
    "ax1 = df['EMPLOYER_NAME'][df['YEAR'] == 2014].groupby(df['EMPLOYER_NAME']).count().sort_values(ascending=False).head(10).plot(kind='barh', title = \"Top 10 Applicants in 2014\",\n",
    "                                                                                                                           color=tableau20)\n",
    "ax1.set_label(\"\")\n",
    "plt.show()"
   ]
  },
  {
   "cell_type": "code",
   "execution_count": 11,
   "id": "9d86da8f",
   "metadata": {},
   "outputs": [
    {
     "data": {
      "image/png": "[encoded data removed]",
      "text/plain": [
       "<Figure size 720x504 with 1 Axes>"
      ]
     },
     "metadata": {
      "needs_background": "light"
     },
     "output_type": "display_data"
    }
   ],
   "source": [
    "plt.figure(figsize=(10,7))\n",
    "\n",
    "ax1 = df['EMPLOYER_NAME'][df['YEAR'] == 2015].groupby(df['EMPLOYER_NAME']).count().sort_values(ascending=False).head(10).plot(kind='barh', title = \"Top 10 Applicants in 2015\",\n",
    "                                                                                                                           color=tableau20)\n",
    "ax1.set_label(\"\")\n",
    "plt.show()"
   ]
  },
  {
   "cell_type": "code",
   "execution_count": 12,
   "id": "67e977a5",
   "metadata": {},
   "outputs": [
    {
     "data": {
      "image/png": "[encoded data removed]",
      "text/plain": [
       "<Figure size 720x504 with 1 Axes>"
      ]
     },
     "metadata": {
      "needs_background": "light"
     },
     "output_type": "display_data"
    }
   ],
   "source": [
    "plt.figure(figsize=(10,7))\n",
    "\n",
    "ax1 = df['EMPLOYER_NAME'][df['YEAR'] == 2016].groupby(df['EMPLOYER_NAME']).count().sort_values(ascending=False).head(10).plot(kind='barh', title = \"Top 10 Applicants in 2016\",\n",
    "                                                                                                                           color=tableau20)\n",
    "ax1.set_label(\"\")\n",
    "plt.show()"
   ]
  },
  {
   "cell_type": "code",
   "execution_count": 13,
   "id": "7d3c99db",
   "metadata": {},
   "outputs": [],
   "source": [
    "#Analyzing more number of top 10 employees"
   ]
  },
  {
   "cell_type": "code",
   "execution_count": 14,
   "id": "90e7529e",
   "metadata": {},
   "outputs": [],
   "source": [
    "top_emp = list(df['EMPLOYER_NAME'][df['YEAR'] >= 2015].groupby(df['EMPLOYER_NAME']).count().sort_values(ascending=False).head(10).index)\n",
    "\n",
    "byempyear = df[['EMPLOYER_NAME', 'YEAR', 'PREVAILING_WAGE']][df['EMPLOYER_NAME'].isin(top_emp)]\n",
    "\n",
    "byempyear = byempyear.groupby([df['EMPLOYER_NAME'], df['YEAR']])"
   ]
  },
  {
   "cell_type": "code",
   "execution_count": 15,
   "id": "5f2516e5",
   "metadata": {},
   "outputs": [
    {
     "data": {
      "image/png": "[encoded data removed]",
      "text/plain": [
       "<Figure size 864x504 with 1 Axes>"
      ]
     },
     "metadata": {
      "needs_background": "light"
     },
     "output_type": "display_data"
    }
   ],
   "source": [
    "plt.figure(figsize=(12,7))\n",
    "\n",
    "markers=['o','v','^','<','>','d','s','p','*','h','x','D','o','v','^','<','>','d','s','p','*','h','x','D']\n",
    "\n",
    "for company in top_emp:\n",
    "    tmp = byempyear.count().loc[company]\n",
    "    plt.plot(tmp.index.values, tmp[\"PREVAILING_WAGE\"].values, label=company, linewidth=2,marker=markers[top_emp.index(company)])\n",
    "plt.xlabel(\"Year\")\n",
    "plt.ylabel(\"Number of Applications\")\n",
    "plt.legend()\n",
    "plt.title('Number of Applications of Top 10 Applicants')\n",
    "plt.show()"
   ]
  },
  {
   "cell_type": "markdown",
   "id": "0b73b735",
   "metadata": {},
   "source": [
    "1) We can clearly see that there are 2 new companies which are TECH MAHINDRA (AMERICAS),INC. & CAPGEMINI AMERICA.\n",
    "\n",
    "2) INFOSYS showed rapid growth between the year 2011 and 2013 where it came from 0 applications to more than 30k applications.\n",
    "\n",
    "3) TATA also showed a significant growth.\n",
    "\n",
    "4) From the above plot except the 2 new comers we can say that the number of applications receving to the top 10 employer started decreasing from the year 2015.\n",
    "\n",
    "5) All the top applications are from India.\n",
    "\n",
    "6) These are the companies who filed the most number of applicaions."
   ]
  },
  {
   "cell_type": "code",
   "execution_count": 16,
   "id": "8a8c0ebe",
   "metadata": {},
   "outputs": [],
   "source": [
    "#Let's check the average salary of each company"
   ]
  },
  {
   "cell_type": "code",
   "execution_count": 17,
   "id": "88f9a8af",
   "metadata": {},
   "outputs": [
    {
     "data": {
      "image/png": "[encoded data removed]",
      "text/plain": [
       "<Figure size 864x504 with 1 Axes>"
      ]
     },
     "metadata": {
      "needs_background": "light"
     },
     "output_type": "display_data"
    }
   ],
   "source": [
    "plt.figure(figsize=(12,7))\n",
    "\n",
    "for company in top_emp:\n",
    "    tmp = byempyear.mean().loc[company]\n",
    "    plt.plot(tmp.index.values, tmp[\"PREVAILING_WAGE\"].values, label=company, linewidth=2,marker=markers[top_emp.index(company)])\n",
    "plt.xlabel(\"Year\")\n",
    "plt.ylabel(\"Average Salary offered (USD)\")\n",
    "plt.legend()\n",
    "plt.title('Average Salary of Top 10 Applicants')\n",
    "plt.show()"
   ]
  },
  {
   "cell_type": "markdown",
   "id": "0224def8",
   "metadata": {},
   "source": [
    "1) We can see that the Average Salary offered by Infosys was very high as compared to rest of the companies in the year 2012.\n",
    "\n",
    "2) It's very interesting to see a huge peak in 2014 by IBM INDIA PRIVATE LIMITED looking like something went wrong.\n",
    "\n",
    "3) More sudden peak's were observed by ACCENTURE LLP in year 2011 and by TECH MAHINDRA in the year 2016."
   ]
  },
  {
   "cell_type": "code",
   "execution_count": 18,
   "id": "41d6406d",
   "metadata": {},
   "outputs": [
    {
     "data": {
      "image/png": "[encoded data removed]",
      "text/plain": [
       "<Figure size 864x504 with 1 Axes>"
      ]
     },
     "metadata": {
      "needs_background": "light"
     },
     "output_type": "display_data"
    }
   ],
   "source": [
    "plt.figure(figsize=(12,7))\n",
    "sns.set(style=\"whitegrid\")\n",
    "g = sns.countplot(x = 'FULL_TIME_POSITION', data = df)\n",
    "plt.title(\"NUMBER OF APPLICATIONS MADE FOR THE FULL TIME POSITION\")\n",
    "plt.ylabel(\"NUMBER OF PETITIONS MADE\")\n",
    "plt.show()"
   ]
  },
  {
   "cell_type": "markdown",
   "id": "34eabab2",
   "metadata": {},
   "source": [
    "# Data Pre-processing"
   ]
  },
  {
   "cell_type": "code",
   "execution_count": 19,
   "id": "04764a8c",
   "metadata": {},
   "outputs": [
    {
     "data": {
      "text/plain": [
       "0          7.608508e+03\n",
       "1          4.892566e+04\n",
       "2          3.901033e+04\n",
       "3          4.445375e+04\n",
       "4          3.189757e+04\n",
       "               ...     \n",
       "3002453    1.000807e+06\n",
       "3002454    1.000797e+06\n",
       "3002455    1.000807e+06\n",
       "3002456    1.000807e+06\n",
       "3002457    1.000802e+06\n",
       "Length: 3002458, dtype: float64"
      ]
     },
     "execution_count": 19,
     "metadata": {},
     "output_type": "execute_result"
    }
   ],
   "source": [
    "df.mean(axis = 1, skipna = True)"
   ]
  },
  {
   "cell_type": "code",
   "execution_count": 20,
   "id": "e57912e1",
   "metadata": {},
   "outputs": [],
   "source": [
    "df.drop(['Unnamed: 0', 'EMPLOYER_NAME','JOB_TITLE','WORKSITE', 'lon','lat'], axis = 1,inplace=True)"
   ]
  },
  {
   "cell_type": "code",
   "execution_count": 21,
   "id": "9f2bee9a",
   "metadata": {},
   "outputs": [
    {
     "data": {
      "text/plain": [
       "CASE_STATUS           True\n",
       "SOC_NAME              True\n",
       "FULL_TIME_POSITION    True\n",
       "PREVAILING_WAGE       True\n",
       "YEAR                  True\n",
       "dtype: bool"
      ]
     },
     "execution_count": 21,
     "metadata": {},
     "output_type": "execute_result"
    }
   ],
   "source": [
    "df.isnull().any()"
   ]
  },
  {
   "cell_type": "code",
   "execution_count": 22,
   "id": "4e50f64b",
   "metadata": {},
   "outputs": [],
   "source": [
    "df['CASE_STATUS'].fillna(df['CASE_STATUS'].mode().iloc[0],inplace=True)\n",
    "df['SOC_NAME'].fillna(df['SOC_NAME'].mode().iloc[0],inplace=True)\n",
    "df['FULL_TIME_POSITION'].fillna(df['FULL_TIME_POSITION'].mode().iloc[0],inplace=True)\n",
    "df['YEAR'].fillna(df['YEAR'].mode().iloc[0],inplace=True)"
   ]
  },
  {
   "cell_type": "code",
   "execution_count": 23,
   "id": "003d5b99",
   "metadata": {},
   "outputs": [],
   "source": [
    "df['PREVAILING_WAGE'].fillna(df['PREVAILING_WAGE'].median(),inplace=True)"
   ]
  },
  {
   "cell_type": "code",
   "execution_count": 24,
   "id": "aded659d",
   "metadata": {},
   "outputs": [
    {
     "name": "stdout",
     "output_type": "stream",
     "text": [
      "['CERTIFIED-WITHDRAWN' 'WITHDRAWN' 'CERTIFIED' 'DENIED' 'REJECTED'\n",
      " 'INVALIDATED' 'PENDING QUALITY AND COMPLIANCE REVIEW - UNASSIGNED']\n",
      "[2016. 2015. 2014. 2013. 2012. 2011.]\n",
      "['N' 'Y']\n"
     ]
    }
   ],
   "source": [
    "print(df['CASE_STATUS'].unique())\n",
    "print(df['YEAR'].unique())\n",
    "print(df['FULL_TIME_POSITION'].unique())"
   ]
  },
  {
   "cell_type": "code",
   "execution_count": 25,
   "id": "3ca6de2c",
   "metadata": {},
   "outputs": [
    {
     "data": {
      "text/plain": [
       "CASE_STATUS           False\n",
       "SOC_NAME              False\n",
       "FULL_TIME_POSITION    False\n",
       "PREVAILING_WAGE       False\n",
       "YEAR                  False\n",
       "dtype: bool"
      ]
     },
     "execution_count": 25,
     "metadata": {},
     "output_type": "execute_result"
    }
   ],
   "source": [
    "df.isnull().any()"
   ]
  },
  {
   "cell_type": "code",
   "execution_count": 26,
   "id": "85139fce",
   "metadata": {},
   "outputs": [
    {
     "data": {
      "text/plain": [
       "CERTIFIED                                             2615636\n",
       "CERTIFIED-WITHDRAWN                                    202659\n",
       "DENIED                                                  94346\n",
       "WITHDRAWN                                               89799\n",
       "PENDING QUALITY AND COMPLIANCE REVIEW - UNASSIGNED         15\n",
       "REJECTED                                                    2\n",
       "INVALIDATED                                                 1\n",
       "Name: CASE_STATUS, dtype: int64"
      ]
     },
     "execution_count": 26,
     "metadata": {},
     "output_type": "execute_result"
    }
   ],
   "source": [
    "df.CASE_STATUS.value_counts()"
   ]
  },
  {
   "cell_type": "code",
   "execution_count": 27,
   "id": "99aad1c4",
   "metadata": {},
   "outputs": [
    {
     "data": {
      "image/png": "[encoded data removed]",
      "text/plain": [
       "<Figure size 720x504 with 1 Axes>"
      ]
     },
     "metadata": {},
     "output_type": "display_data"
    }
   ],
   "source": [
    "plt.figure(figsize=(10,7))\n",
    "df.CASE_STATUS.value_counts().plot(kind='barh',  color=tableau20)\n",
    "df.sort_values('CASE_STATUS')\n",
    "plt.title(\"NUMBER OF APPLICATIONS\")\n",
    "plt.show()"
   ]
  },
  {
   "cell_type": "code",
   "execution_count": 28,
   "id": "d7266a12",
   "metadata": {},
   "outputs": [
    {
     "data": {
      "text/plain": [
       "<AxesSubplot:>"
      ]
     },
     "execution_count": 28,
     "metadata": {},
     "output_type": "execute_result"
    },
    {
     "data": {
      "image/png": "[encoded data removed]",
      "text/plain": [
       "<Figure size 432x288 with 1 Axes>"
      ]
     },
     "metadata": {},
     "output_type": "display_data"
    }
   ],
   "source": [
    "df.YEAR.value_counts().plot(kind = 'bar',color=tableau20)"
   ]
  },
  {
   "cell_type": "markdown",
   "id": "526e2395",
   "metadata": {},
   "source": [
    "# Label enconding / Mapping of categorical variable"
   ]
  },
  {
   "cell_type": "code",
   "execution_count": 29,
   "id": "74434f22",
   "metadata": {},
   "outputs": [],
   "source": [
    "df['CASE_STATUS'] = df['CASE_STATUS'].map({'CERTIFIED' : 0, 'CERTIFIED-WITHDRAWN' : 1, 'DENIED' : 2,'WITHDRAWN' : 3,'PENDING QUALITY AND COMPLIANCE REVIEW - UNASSIGNED' : 4,'REJECTED' : 5, 'INVALIDATED' : 6})"
   ]
  },
  {
   "cell_type": "code",
   "execution_count": 30,
   "id": "4d6fcb73",
   "metadata": {},
   "outputs": [
    {
     "data": {
      "text/html": [
       "<div>\n",
       "<style scoped>\n",
       "    .dataframe tbody tr th:only-of-type {\n",
       "        vertical-align: middle;\n",
       "    }\n",
       "\n",
       "    .dataframe tbody tr th {\n",
       "        vertical-align: top;\n",
       "    }\n",
       "\n",
       "    .dataframe thead th {\n",
       "        text-align: right;\n",
       "    }\n",
       "</style>\n",
       "<table border=\"1\" class=\"dataframe\">\n",
       "  <thead>\n",
       "    <tr style=\"text-align: right;\">\n",
       "      <th></th>\n",
       "      <th>CASE_STATUS</th>\n",
       "      <th>SOC_NAME</th>\n",
       "      <th>FULL_TIME_POSITION</th>\n",
       "      <th>PREVAILING_WAGE</th>\n",
       "      <th>YEAR</th>\n",
       "    </tr>\n",
       "  </thead>\n",
       "  <tbody>\n",
       "    <tr>\n",
       "      <th>0</th>\n",
       "      <td>1</td>\n",
       "      <td>BIOCHEMISTS AND BIOPHYSICISTS</td>\n",
       "      <td>0</td>\n",
       "      <td>36067.0</td>\n",
       "      <td>2016.0</td>\n",
       "    </tr>\n",
       "    <tr>\n",
       "      <th>1</th>\n",
       "      <td>1</td>\n",
       "      <td>CHIEF EXECUTIVES</td>\n",
       "      <td>1</td>\n",
       "      <td>242674.0</td>\n",
       "      <td>2016.0</td>\n",
       "    </tr>\n",
       "    <tr>\n",
       "      <th>2</th>\n",
       "      <td>1</td>\n",
       "      <td>CHIEF EXECUTIVES</td>\n",
       "      <td>1</td>\n",
       "      <td>193066.0</td>\n",
       "      <td>2016.0</td>\n",
       "    </tr>\n",
       "    <tr>\n",
       "      <th>3</th>\n",
       "      <td>1</td>\n",
       "      <td>CHIEF EXECUTIVES</td>\n",
       "      <td>1</td>\n",
       "      <td>220314.0</td>\n",
       "      <td>2016.0</td>\n",
       "    </tr>\n",
       "    <tr>\n",
       "      <th>4</th>\n",
       "      <td>3</td>\n",
       "      <td>CHIEF EXECUTIVES</td>\n",
       "      <td>1</td>\n",
       "      <td>157518.4</td>\n",
       "      <td>2016.0</td>\n",
       "    </tr>\n",
       "  </tbody>\n",
       "</table>\n",
       "</div>"
      ],
      "text/plain": [
       "   CASE_STATUS                       SOC_NAME  FULL_TIME_POSITION  \\\n",
       "0            1  BIOCHEMISTS AND BIOPHYSICISTS                   0   \n",
       "1            1               CHIEF EXECUTIVES                   1   \n",
       "2            1               CHIEF EXECUTIVES                   1   \n",
       "3            1               CHIEF EXECUTIVES                   1   \n",
       "4            3               CHIEF EXECUTIVES                   1   \n",
       "\n",
       "   PREVAILING_WAGE    YEAR  \n",
       "0          36067.0  2016.0  \n",
       "1         242674.0  2016.0  \n",
       "2         193066.0  2016.0  \n",
       "3         220314.0  2016.0  \n",
       "4         157518.4  2016.0  "
      ]
     },
     "execution_count": 30,
     "metadata": {},
     "output_type": "execute_result"
    }
   ],
   "source": [
    "df['FULL_TIME_POSITION'] = df['FULL_TIME_POSITION'].map({'N' : 0, 'Y' : 1})\n",
    "df.head()"
   ]
  },
  {
   "cell_type": "markdown",
   "id": "d93dc694",
   "metadata": {},
   "source": [
    "# Different kind of label encoding for SOC_NAME"
   ]
  },
  {
   "cell_type": "markdown",
   "id": "e076c9b4",
   "metadata": {},
   "source": [
    "\n",
    "\n",
    "Since there are lakhs of unique values in 'SOC_NAME', we will insert a new column 'SOC_NAME_NEW' to categorize the latter's\n",
    "values in 15 new category."
   ]
  },
  {
   "cell_type": "code",
   "execution_count": 31,
   "id": "b9d4c364",
   "metadata": {},
   "outputs": [
    {
     "name": "stderr",
     "output_type": "stream",
     "text": [
      "C:\\Users\\ARYAMAN\\Anaconda3\\lib\\site-packages\\ipykernel_launcher.py:3: SettingWithCopyWarning: \n",
      "A value is trying to be set on a copy of a slice from a DataFrame\n",
      "\n",
      "See the caveats in the documentation: https://pandas.pydata.org/pandas-docs/stable/user_guide/indexing.html#returning-a-view-versus-a-copy\n",
      "  This is separate from the ipykernel package so we can avoid doing imports until\n",
      "C:\\Users\\ARYAMAN\\Anaconda3\\lib\\site-packages\\ipykernel_launcher.py:4: SettingWithCopyWarning: \n",
      "A value is trying to be set on a copy of a slice from a DataFrame\n",
      "\n",
      "See the caveats in the documentation: https://pandas.pydata.org/pandas-docs/stable/user_guide/indexing.html#returning-a-view-versus-a-copy\n",
      "  after removing the cwd from sys.path.\n",
      "C:\\Users\\ARYAMAN\\Anaconda3\\lib\\site-packages\\ipykernel_launcher.py:5: SettingWithCopyWarning: \n",
      "A value is trying to be set on a copy of a slice from a DataFrame\n",
      "\n",
      "See the caveats in the documentation: https://pandas.pydata.org/pandas-docs/stable/user_guide/indexing.html#returning-a-view-versus-a-copy\n",
      "  \"\"\"\n",
      "C:\\Users\\ARYAMAN\\Anaconda3\\lib\\site-packages\\ipykernel_launcher.py:6: SettingWithCopyWarning: \n",
      "A value is trying to be set on a copy of a slice from a DataFrame\n",
      "\n",
      "See the caveats in the documentation: https://pandas.pydata.org/pandas-docs/stable/user_guide/indexing.html#returning-a-view-versus-a-copy\n",
      "  \n",
      "C:\\Users\\ARYAMAN\\Anaconda3\\lib\\site-packages\\ipykernel_launcher.py:7: SettingWithCopyWarning: \n",
      "A value is trying to be set on a copy of a slice from a DataFrame\n",
      "\n",
      "See the caveats in the documentation: https://pandas.pydata.org/pandas-docs/stable/user_guide/indexing.html#returning-a-view-versus-a-copy\n",
      "  import sys\n",
      "C:\\Users\\ARYAMAN\\Anaconda3\\lib\\site-packages\\ipykernel_launcher.py:8: SettingWithCopyWarning: \n",
      "A value is trying to be set on a copy of a slice from a DataFrame\n",
      "\n",
      "See the caveats in the documentation: https://pandas.pydata.org/pandas-docs/stable/user_guide/indexing.html#returning-a-view-versus-a-copy\n",
      "  \n",
      "C:\\Users\\ARYAMAN\\Anaconda3\\lib\\site-packages\\ipykernel_launcher.py:9: SettingWithCopyWarning: \n",
      "A value is trying to be set on a copy of a slice from a DataFrame\n",
      "\n",
      "See the caveats in the documentation: https://pandas.pydata.org/pandas-docs/stable/user_guide/indexing.html#returning-a-view-versus-a-copy\n",
      "  if __name__ == '__main__':\n",
      "C:\\Users\\ARYAMAN\\Anaconda3\\lib\\site-packages\\ipykernel_launcher.py:10: SettingWithCopyWarning: \n",
      "A value is trying to be set on a copy of a slice from a DataFrame\n",
      "\n",
      "See the caveats in the documentation: https://pandas.pydata.org/pandas-docs/stable/user_guide/indexing.html#returning-a-view-versus-a-copy\n",
      "  # Remove the CWD from sys.path while we load stuff.\n",
      "C:\\Users\\ARYAMAN\\Anaconda3\\lib\\site-packages\\ipykernel_launcher.py:11: SettingWithCopyWarning: \n",
      "A value is trying to be set on a copy of a slice from a DataFrame\n",
      "\n",
      "See the caveats in the documentation: https://pandas.pydata.org/pandas-docs/stable/user_guide/indexing.html#returning-a-view-versus-a-copy\n",
      "  # This is added back by InteractiveShellApp.init_path()\n",
      "C:\\Users\\ARYAMAN\\Anaconda3\\lib\\site-packages\\ipykernel_launcher.py:12: SettingWithCopyWarning: \n",
      "A value is trying to be set on a copy of a slice from a DataFrame\n",
      "\n",
      "See the caveats in the documentation: https://pandas.pydata.org/pandas-docs/stable/user_guide/indexing.html#returning-a-view-versus-a-copy\n",
      "  if sys.path[0] == '':\n",
      "C:\\Users\\ARYAMAN\\Anaconda3\\lib\\site-packages\\ipykernel_launcher.py:13: SettingWithCopyWarning: \n",
      "A value is trying to be set on a copy of a slice from a DataFrame\n",
      "\n",
      "See the caveats in the documentation: https://pandas.pydata.org/pandas-docs/stable/user_guide/indexing.html#returning-a-view-versus-a-copy\n",
      "  del sys.path[0]\n",
      "C:\\Users\\ARYAMAN\\Anaconda3\\lib\\site-packages\\ipykernel_launcher.py:14: SettingWithCopyWarning: \n",
      "A value is trying to be set on a copy of a slice from a DataFrame\n",
      "\n",
      "See the caveats in the documentation: https://pandas.pydata.org/pandas-docs/stable/user_guide/indexing.html#returning-a-view-versus-a-copy\n",
      "  \n",
      "C:\\Users\\ARYAMAN\\Anaconda3\\lib\\site-packages\\ipykernel_launcher.py:15: SettingWithCopyWarning: \n",
      "A value is trying to be set on a copy of a slice from a DataFrame\n",
      "\n",
      "See the caveats in the documentation: https://pandas.pydata.org/pandas-docs/stable/user_guide/indexing.html#returning-a-view-versus-a-copy\n",
      "  from ipykernel import kernelapp as app\n",
      "C:\\Users\\ARYAMAN\\Anaconda3\\lib\\site-packages\\ipykernel_launcher.py:16: SettingWithCopyWarning: \n",
      "A value is trying to be set on a copy of a slice from a DataFrame\n",
      "\n",
      "See the caveats in the documentation: https://pandas.pydata.org/pandas-docs/stable/user_guide/indexing.html#returning-a-view-versus-a-copy\n",
      "  app.launch_new_instance()\n",
      "C:\\Users\\ARYAMAN\\Anaconda3\\lib\\site-packages\\ipykernel_launcher.py:17: SettingWithCopyWarning: \n",
      "A value is trying to be set on a copy of a slice from a DataFrame\n",
      "\n",
      "See the caveats in the documentation: https://pandas.pydata.org/pandas-docs/stable/user_guide/indexing.html#returning-a-view-versus-a-copy\n"
     ]
    }
   ],
   "source": [
    "import sys\n",
    "df['SOC_NAME_NEW'] = 'others'\n",
    "df['SOC_NAME_NEW'][df['SOC_NAME'].str.contains('CHIEF|EXECUTIVES')] = 'Executives'\n",
    "df['SOC_NAME_NEW'][df['SOC_NAME'].str.contains('Computer|Software')] = 'IT'\n",
    "df['SOC_NAME_NEW'][df['SOC_NAME'].str.contains('Chief|Management|MANAGERS')] = 'Manager'\n",
    "df['SOC_NAME_NEW'][df['SOC_NAME'].str.contains('Mechanical')] = 'Mechanical'\n",
    "df['SOC_NAME_NEW'][df['SOC_NAME'].str.contains('Database')] = 'Database'\n",
    "df['SOC_NAME_NEW'][df['SOC_NAME'].str.contains('Sales|Market')] = 'Sales & Market'\n",
    "df['SOC_NAME_NEW'][df['SOC_NAME'].str.contains('FINANCIAL')] = 'Finance'\n",
    "df['SOC_NAME_NEW'][df['SOC_NAME'].str.contains('Public|Fundraising')] = 'P.R'\n",
    "df['SOC_NAME_NEW'][df['SOC_NAME'].str.contains('education|law')] = 'Administrative'\n",
    "df['SOC_NAME_NEW'][df['SOC_NAME'].str.contains('Auditors|Compliance')] = 'Audit'\n",
    "df['SOC_NAME_NEW'][df['SOC_NAME'].str.contains('Recruiters|Human')] = 'H.R'\n",
    "df['SOC_NAME_NEW'][df['SOC_NAME'].str.contains('Agricultural|Farm')] = 'Agriculture'\n",
    "df['SOC_NAME_NEW'][df['SOC_NAME'].str.contains('Construction|Architectural')] = 'Estate'\n",
    "df['SOC_NAME_NEW'][df['SOC_NAME'].str.contains('Forencsic|Health')] = 'Medical'\n",
    "df['SOC_NAME_NEW'][df['SOC_NAME'].str.contains('teachers')] = 'Education'"
   ]
  },
  {
   "cell_type": "code",
   "execution_count": 32,
   "id": "d766d00d",
   "metadata": {},
   "outputs": [
    {
     "data": {
      "text/html": [
       "<div>\n",
       "<style scoped>\n",
       "    .dataframe tbody tr th:only-of-type {\n",
       "        vertical-align: middle;\n",
       "    }\n",
       "\n",
       "    .dataframe tbody tr th {\n",
       "        vertical-align: top;\n",
       "    }\n",
       "\n",
       "    .dataframe thead th {\n",
       "        text-align: right;\n",
       "    }\n",
       "</style>\n",
       "<table border=\"1\" class=\"dataframe\">\n",
       "  <thead>\n",
       "    <tr style=\"text-align: right;\">\n",
       "      <th></th>\n",
       "      <th>CASE_STATUS</th>\n",
       "      <th>SOC_NAME</th>\n",
       "      <th>FULL_TIME_POSITION</th>\n",
       "      <th>PREVAILING_WAGE</th>\n",
       "      <th>YEAR</th>\n",
       "      <th>SOC_NAME_NEW</th>\n",
       "    </tr>\n",
       "  </thead>\n",
       "  <tbody>\n",
       "    <tr>\n",
       "      <th>0</th>\n",
       "      <td>1</td>\n",
       "      <td>BIOCHEMISTS AND BIOPHYSICISTS</td>\n",
       "      <td>0</td>\n",
       "      <td>36067.0</td>\n",
       "      <td>2016.0</td>\n",
       "      <td>others</td>\n",
       "    </tr>\n",
       "    <tr>\n",
       "      <th>1</th>\n",
       "      <td>1</td>\n",
       "      <td>CHIEF EXECUTIVES</td>\n",
       "      <td>1</td>\n",
       "      <td>242674.0</td>\n",
       "      <td>2016.0</td>\n",
       "      <td>Executives</td>\n",
       "    </tr>\n",
       "    <tr>\n",
       "      <th>2</th>\n",
       "      <td>1</td>\n",
       "      <td>CHIEF EXECUTIVES</td>\n",
       "      <td>1</td>\n",
       "      <td>193066.0</td>\n",
       "      <td>2016.0</td>\n",
       "      <td>Executives</td>\n",
       "    </tr>\n",
       "    <tr>\n",
       "      <th>3</th>\n",
       "      <td>1</td>\n",
       "      <td>CHIEF EXECUTIVES</td>\n",
       "      <td>1</td>\n",
       "      <td>220314.0</td>\n",
       "      <td>2016.0</td>\n",
       "      <td>Executives</td>\n",
       "    </tr>\n",
       "    <tr>\n",
       "      <th>4</th>\n",
       "      <td>3</td>\n",
       "      <td>CHIEF EXECUTIVES</td>\n",
       "      <td>1</td>\n",
       "      <td>157518.4</td>\n",
       "      <td>2016.0</td>\n",
       "      <td>Executives</td>\n",
       "    </tr>\n",
       "    <tr>\n",
       "      <th>...</th>\n",
       "      <td>...</td>\n",
       "      <td>...</td>\n",
       "      <td>...</td>\n",
       "      <td>...</td>\n",
       "      <td>...</td>\n",
       "      <td>...</td>\n",
       "    </tr>\n",
       "    <tr>\n",
       "      <th>3002453</th>\n",
       "      <td>0</td>\n",
       "      <td>Computer Systems Analysts</td>\n",
       "      <td>1</td>\n",
       "      <td>65021.0</td>\n",
       "      <td>2016.0</td>\n",
       "      <td>IT</td>\n",
       "    </tr>\n",
       "    <tr>\n",
       "      <th>3002454</th>\n",
       "      <td>0</td>\n",
       "      <td>Computer Systems Analysts</td>\n",
       "      <td>1</td>\n",
       "      <td>65021.0</td>\n",
       "      <td>2016.0</td>\n",
       "      <td>IT</td>\n",
       "    </tr>\n",
       "    <tr>\n",
       "      <th>3002455</th>\n",
       "      <td>0</td>\n",
       "      <td>Computer Systems Analysts</td>\n",
       "      <td>1</td>\n",
       "      <td>65021.0</td>\n",
       "      <td>2016.0</td>\n",
       "      <td>IT</td>\n",
       "    </tr>\n",
       "    <tr>\n",
       "      <th>3002456</th>\n",
       "      <td>0</td>\n",
       "      <td>Computer Systems Analysts</td>\n",
       "      <td>1</td>\n",
       "      <td>65021.0</td>\n",
       "      <td>2016.0</td>\n",
       "      <td>IT</td>\n",
       "    </tr>\n",
       "    <tr>\n",
       "      <th>3002457</th>\n",
       "      <td>0</td>\n",
       "      <td>Computer Systems Analysts</td>\n",
       "      <td>1</td>\n",
       "      <td>65021.0</td>\n",
       "      <td>2016.0</td>\n",
       "      <td>IT</td>\n",
       "    </tr>\n",
       "  </tbody>\n",
       "</table>\n",
       "<p>3002458 rows × 6 columns</p>\n",
       "</div>"
      ],
      "text/plain": [
       "         CASE_STATUS                       SOC_NAME  FULL_TIME_POSITION  \\\n",
       "0                  1  BIOCHEMISTS AND BIOPHYSICISTS                   0   \n",
       "1                  1               CHIEF EXECUTIVES                   1   \n",
       "2                  1               CHIEF EXECUTIVES                   1   \n",
       "3                  1               CHIEF EXECUTIVES                   1   \n",
       "4                  3               CHIEF EXECUTIVES                   1   \n",
       "...              ...                            ...                 ...   \n",
       "3002453            0      Computer Systems Analysts                   1   \n",
       "3002454            0      Computer Systems Analysts                   1   \n",
       "3002455            0      Computer Systems Analysts                   1   \n",
       "3002456            0      Computer Systems Analysts                   1   \n",
       "3002457            0      Computer Systems Analysts                   1   \n",
       "\n",
       "         PREVAILING_WAGE    YEAR SOC_NAME_NEW  \n",
       "0                36067.0  2016.0       others  \n",
       "1               242674.0  2016.0   Executives  \n",
       "2               193066.0  2016.0   Executives  \n",
       "3               220314.0  2016.0   Executives  \n",
       "4               157518.4  2016.0   Executives  \n",
       "...                  ...     ...          ...  \n",
       "3002453          65021.0  2016.0           IT  \n",
       "3002454          65021.0  2016.0           IT  \n",
       "3002455          65021.0  2016.0           IT  \n",
       "3002456          65021.0  2016.0           IT  \n",
       "3002457          65021.0  2016.0           IT  \n",
       "\n",
       "[3002458 rows x 6 columns]"
      ]
     },
     "execution_count": 32,
     "metadata": {},
     "output_type": "execute_result"
    }
   ],
   "source": [
    "df"
   ]
  },
  {
   "cell_type": "code",
   "execution_count": 33,
   "id": "94462f45",
   "metadata": {},
   "outputs": [
    {
     "data": {
      "text/plain": [
       "array(['others', 'Executives', 'Finance', 'Manager', 'IT', 'Audit',\n",
       "       'Sales & Market', 'Medical', 'P.R', 'Mechanical', 'Database',\n",
       "       'H.R', 'Estate', 'Agriculture', 'Education', 'Administrative'],\n",
       "      dtype=object)"
      ]
     },
     "execution_count": 33,
     "metadata": {},
     "output_type": "execute_result"
    }
   ],
   "source": [
    "df['SOC_NAME_NEW'].unique()"
   ]
  },
  {
   "cell_type": "code",
   "execution_count": 34,
   "id": "ee930f57",
   "metadata": {},
   "outputs": [],
   "source": [
    "from sklearn import preprocessing\n",
    "le = preprocessing.LabelEncoder()\n",
    "le.fit(df.SOC_NAME_NEW)\n",
    "# print list(le.classes_)\n",
    "df['SOC_N']=le.transform(df['SOC_NAME_NEW'])"
   ]
  },
  {
   "cell_type": "code",
   "execution_count": 35,
   "id": "d5448df2",
   "metadata": {},
   "outputs": [
    {
     "data": {
      "text/plain": [
       "SOC_NAME_NEW\n",
       "Administrative     [0]\n",
       "Agriculture        [1]\n",
       "Audit              [2]\n",
       "Database           [3]\n",
       "Education          [4]\n",
       "Estate             [5]\n",
       "Executives         [6]\n",
       "Finance            [7]\n",
       "H.R                [8]\n",
       "IT                 [9]\n",
       "Manager           [10]\n",
       "Mechanical        [11]\n",
       "Medical           [12]\n",
       "P.R               [13]\n",
       "Sales & Market    [14]\n",
       "others            [15]\n",
       "dtype: object"
      ]
     },
     "execution_count": 35,
     "metadata": {},
     "output_type": "execute_result"
    }
   ],
   "source": [
    "group = df.groupby('SOC_NAME_NEW')\n",
    "df2 = group.apply(lambda x: x['SOC_N'].unique())\n",
    "df2"
   ]
  },
  {
   "cell_type": "code",
   "execution_count": 36,
   "id": "dbd7f437",
   "metadata": {},
   "outputs": [
    {
     "data": {
      "text/html": [
       "<div>\n",
       "<style scoped>\n",
       "    .dataframe tbody tr th:only-of-type {\n",
       "        vertical-align: middle;\n",
       "    }\n",
       "\n",
       "    .dataframe tbody tr th {\n",
       "        vertical-align: top;\n",
       "    }\n",
       "\n",
       "    .dataframe thead th {\n",
       "        text-align: right;\n",
       "    }\n",
       "</style>\n",
       "<table border=\"1\" class=\"dataframe\">\n",
       "  <thead>\n",
       "    <tr style=\"text-align: right;\">\n",
       "      <th></th>\n",
       "      <th>CASE_STATUS</th>\n",
       "      <th>SOC_NAME</th>\n",
       "      <th>FULL_TIME_POSITION</th>\n",
       "      <th>PREVAILING_WAGE</th>\n",
       "      <th>YEAR</th>\n",
       "      <th>SOC_NAME_NEW</th>\n",
       "      <th>SOC_N</th>\n",
       "    </tr>\n",
       "  </thead>\n",
       "  <tbody>\n",
       "    <tr>\n",
       "      <th>1605559</th>\n",
       "      <td>5</td>\n",
       "      <td>Software Developers, Applications</td>\n",
       "      <td>1</td>\n",
       "      <td>57886.0</td>\n",
       "      <td>2014.0</td>\n",
       "      <td>IT</td>\n",
       "      <td>9</td>\n",
       "    </tr>\n",
       "    <tr>\n",
       "      <th>1728391</th>\n",
       "      <td>5</td>\n",
       "      <td>Physical Therapists</td>\n",
       "      <td>1</td>\n",
       "      <td>53248.0</td>\n",
       "      <td>2014.0</td>\n",
       "      <td>others</td>\n",
       "      <td>15</td>\n",
       "    </tr>\n",
       "  </tbody>\n",
       "</table>\n",
       "</div>"
      ],
      "text/plain": [
       "         CASE_STATUS                           SOC_NAME  FULL_TIME_POSITION  \\\n",
       "1605559            5  Software Developers, Applications                   1   \n",
       "1728391            5                Physical Therapists                   1   \n",
       "\n",
       "         PREVAILING_WAGE    YEAR SOC_NAME_NEW  SOC_N  \n",
       "1605559          57886.0  2014.0           IT      9  \n",
       "1728391          53248.0  2014.0       others     15  "
      ]
     },
     "execution_count": 36,
     "metadata": {},
     "output_type": "execute_result"
    }
   ],
   "source": [
    "df.loc[df['CASE_STATUS'] == 5]"
   ]
  },
  {
   "cell_type": "code",
   "execution_count": 37,
   "id": "5c51ce43",
   "metadata": {},
   "outputs": [
    {
     "data": {
      "text/html": [
       "<div>\n",
       "<style scoped>\n",
       "    .dataframe tbody tr th:only-of-type {\n",
       "        vertical-align: middle;\n",
       "    }\n",
       "\n",
       "    .dataframe tbody tr th {\n",
       "        vertical-align: top;\n",
       "    }\n",
       "\n",
       "    .dataframe thead th {\n",
       "        text-align: right;\n",
       "    }\n",
       "</style>\n",
       "<table border=\"1\" class=\"dataframe\">\n",
       "  <thead>\n",
       "    <tr style=\"text-align: right;\">\n",
       "      <th></th>\n",
       "      <th>CASE_STATUS</th>\n",
       "      <th>SOC_NAME</th>\n",
       "      <th>FULL_TIME_POSITION</th>\n",
       "      <th>PREVAILING_WAGE</th>\n",
       "      <th>YEAR</th>\n",
       "      <th>SOC_NAME_NEW</th>\n",
       "      <th>SOC_N</th>\n",
       "    </tr>\n",
       "  </thead>\n",
       "  <tbody>\n",
       "    <tr>\n",
       "      <th>0</th>\n",
       "      <td>1</td>\n",
       "      <td>BIOCHEMISTS AND BIOPHYSICISTS</td>\n",
       "      <td>0</td>\n",
       "      <td>36067.0</td>\n",
       "      <td>2016.0</td>\n",
       "      <td>others</td>\n",
       "      <td>15</td>\n",
       "    </tr>\n",
       "    <tr>\n",
       "      <th>1</th>\n",
       "      <td>1</td>\n",
       "      <td>CHIEF EXECUTIVES</td>\n",
       "      <td>1</td>\n",
       "      <td>242674.0</td>\n",
       "      <td>2016.0</td>\n",
       "      <td>Executives</td>\n",
       "      <td>6</td>\n",
       "    </tr>\n",
       "    <tr>\n",
       "      <th>2</th>\n",
       "      <td>1</td>\n",
       "      <td>CHIEF EXECUTIVES</td>\n",
       "      <td>1</td>\n",
       "      <td>193066.0</td>\n",
       "      <td>2016.0</td>\n",
       "      <td>Executives</td>\n",
       "      <td>6</td>\n",
       "    </tr>\n",
       "    <tr>\n",
       "      <th>3</th>\n",
       "      <td>1</td>\n",
       "      <td>CHIEF EXECUTIVES</td>\n",
       "      <td>1</td>\n",
       "      <td>220314.0</td>\n",
       "      <td>2016.0</td>\n",
       "      <td>Executives</td>\n",
       "      <td>6</td>\n",
       "    </tr>\n",
       "    <tr>\n",
       "      <th>4</th>\n",
       "      <td>3</td>\n",
       "      <td>CHIEF EXECUTIVES</td>\n",
       "      <td>1</td>\n",
       "      <td>157518.4</td>\n",
       "      <td>2016.0</td>\n",
       "      <td>Executives</td>\n",
       "      <td>6</td>\n",
       "    </tr>\n",
       "    <tr>\n",
       "      <th>...</th>\n",
       "      <td>...</td>\n",
       "      <td>...</td>\n",
       "      <td>...</td>\n",
       "      <td>...</td>\n",
       "      <td>...</td>\n",
       "      <td>...</td>\n",
       "      <td>...</td>\n",
       "    </tr>\n",
       "    <tr>\n",
       "      <th>3002453</th>\n",
       "      <td>0</td>\n",
       "      <td>Computer Systems Analysts</td>\n",
       "      <td>1</td>\n",
       "      <td>65021.0</td>\n",
       "      <td>2016.0</td>\n",
       "      <td>IT</td>\n",
       "      <td>9</td>\n",
       "    </tr>\n",
       "    <tr>\n",
       "      <th>3002454</th>\n",
       "      <td>0</td>\n",
       "      <td>Computer Systems Analysts</td>\n",
       "      <td>1</td>\n",
       "      <td>65021.0</td>\n",
       "      <td>2016.0</td>\n",
       "      <td>IT</td>\n",
       "      <td>9</td>\n",
       "    </tr>\n",
       "    <tr>\n",
       "      <th>3002455</th>\n",
       "      <td>0</td>\n",
       "      <td>Computer Systems Analysts</td>\n",
       "      <td>1</td>\n",
       "      <td>65021.0</td>\n",
       "      <td>2016.0</td>\n",
       "      <td>IT</td>\n",
       "      <td>9</td>\n",
       "    </tr>\n",
       "    <tr>\n",
       "      <th>3002456</th>\n",
       "      <td>0</td>\n",
       "      <td>Computer Systems Analysts</td>\n",
       "      <td>1</td>\n",
       "      <td>65021.0</td>\n",
       "      <td>2016.0</td>\n",
       "      <td>IT</td>\n",
       "      <td>9</td>\n",
       "    </tr>\n",
       "    <tr>\n",
       "      <th>3002457</th>\n",
       "      <td>0</td>\n",
       "      <td>Computer Systems Analysts</td>\n",
       "      <td>1</td>\n",
       "      <td>65021.0</td>\n",
       "      <td>2016.0</td>\n",
       "      <td>IT</td>\n",
       "      <td>9</td>\n",
       "    </tr>\n",
       "  </tbody>\n",
       "</table>\n",
       "<p>3002458 rows × 7 columns</p>\n",
       "</div>"
      ],
      "text/plain": [
       "         CASE_STATUS                       SOC_NAME  FULL_TIME_POSITION  \\\n",
       "0                  1  BIOCHEMISTS AND BIOPHYSICISTS                   0   \n",
       "1                  1               CHIEF EXECUTIVES                   1   \n",
       "2                  1               CHIEF EXECUTIVES                   1   \n",
       "3                  1               CHIEF EXECUTIVES                   1   \n",
       "4                  3               CHIEF EXECUTIVES                   1   \n",
       "...              ...                            ...                 ...   \n",
       "3002453            0      Computer Systems Analysts                   1   \n",
       "3002454            0      Computer Systems Analysts                   1   \n",
       "3002455            0      Computer Systems Analysts                   1   \n",
       "3002456            0      Computer Systems Analysts                   1   \n",
       "3002457            0      Computer Systems Analysts                   1   \n",
       "\n",
       "         PREVAILING_WAGE    YEAR SOC_NAME_NEW  SOC_N  \n",
       "0                36067.0  2016.0       others     15  \n",
       "1               242674.0  2016.0   Executives      6  \n",
       "2               193066.0  2016.0   Executives      6  \n",
       "3               220314.0  2016.0   Executives      6  \n",
       "4               157518.4  2016.0   Executives      6  \n",
       "...                  ...     ...          ...    ...  \n",
       "3002453          65021.0  2016.0           IT      9  \n",
       "3002454          65021.0  2016.0           IT      9  \n",
       "3002455          65021.0  2016.0           IT      9  \n",
       "3002456          65021.0  2016.0           IT      9  \n",
       "3002457          65021.0  2016.0           IT      9  \n",
       "\n",
       "[3002458 rows x 7 columns]"
      ]
     },
     "execution_count": 37,
     "metadata": {},
     "output_type": "execute_result"
    }
   ],
   "source": [
    "df"
   ]
  },
  {
   "cell_type": "code",
   "execution_count": 38,
   "id": "39e98e76",
   "metadata": {},
   "outputs": [],
   "source": [
    "df = df.drop(['SOC_NAME','SOC_NAME_NEW'], axis=1)"
   ]
  },
  {
   "cell_type": "code",
   "execution_count": 39,
   "id": "0d2118b9",
   "metadata": {},
   "outputs": [
    {
     "data": {
      "text/html": [
       "<div>\n",
       "<style scoped>\n",
       "    .dataframe tbody tr th:only-of-type {\n",
       "        vertical-align: middle;\n",
       "    }\n",
       "\n",
       "    .dataframe tbody tr th {\n",
       "        vertical-align: top;\n",
       "    }\n",
       "\n",
       "    .dataframe thead th {\n",
       "        text-align: right;\n",
       "    }\n",
       "</style>\n",
       "<table border=\"1\" class=\"dataframe\">\n",
       "  <thead>\n",
       "    <tr style=\"text-align: right;\">\n",
       "      <th></th>\n",
       "      <th>CASE_STATUS</th>\n",
       "      <th>FULL_TIME_POSITION</th>\n",
       "      <th>PREVAILING_WAGE</th>\n",
       "      <th>YEAR</th>\n",
       "      <th>SOC_N</th>\n",
       "    </tr>\n",
       "  </thead>\n",
       "  <tbody>\n",
       "    <tr>\n",
       "      <th>0</th>\n",
       "      <td>1</td>\n",
       "      <td>0</td>\n",
       "      <td>36067.0</td>\n",
       "      <td>2016.0</td>\n",
       "      <td>15</td>\n",
       "    </tr>\n",
       "    <tr>\n",
       "      <th>1</th>\n",
       "      <td>1</td>\n",
       "      <td>1</td>\n",
       "      <td>242674.0</td>\n",
       "      <td>2016.0</td>\n",
       "      <td>6</td>\n",
       "    </tr>\n",
       "    <tr>\n",
       "      <th>2</th>\n",
       "      <td>1</td>\n",
       "      <td>1</td>\n",
       "      <td>193066.0</td>\n",
       "      <td>2016.0</td>\n",
       "      <td>6</td>\n",
       "    </tr>\n",
       "    <tr>\n",
       "      <th>3</th>\n",
       "      <td>1</td>\n",
       "      <td>1</td>\n",
       "      <td>220314.0</td>\n",
       "      <td>2016.0</td>\n",
       "      <td>6</td>\n",
       "    </tr>\n",
       "    <tr>\n",
       "      <th>4</th>\n",
       "      <td>3</td>\n",
       "      <td>1</td>\n",
       "      <td>157518.4</td>\n",
       "      <td>2016.0</td>\n",
       "      <td>6</td>\n",
       "    </tr>\n",
       "    <tr>\n",
       "      <th>...</th>\n",
       "      <td>...</td>\n",
       "      <td>...</td>\n",
       "      <td>...</td>\n",
       "      <td>...</td>\n",
       "      <td>...</td>\n",
       "    </tr>\n",
       "    <tr>\n",
       "      <th>3002453</th>\n",
       "      <td>0</td>\n",
       "      <td>1</td>\n",
       "      <td>65021.0</td>\n",
       "      <td>2016.0</td>\n",
       "      <td>9</td>\n",
       "    </tr>\n",
       "    <tr>\n",
       "      <th>3002454</th>\n",
       "      <td>0</td>\n",
       "      <td>1</td>\n",
       "      <td>65021.0</td>\n",
       "      <td>2016.0</td>\n",
       "      <td>9</td>\n",
       "    </tr>\n",
       "    <tr>\n",
       "      <th>3002455</th>\n",
       "      <td>0</td>\n",
       "      <td>1</td>\n",
       "      <td>65021.0</td>\n",
       "      <td>2016.0</td>\n",
       "      <td>9</td>\n",
       "    </tr>\n",
       "    <tr>\n",
       "      <th>3002456</th>\n",
       "      <td>0</td>\n",
       "      <td>1</td>\n",
       "      <td>65021.0</td>\n",
       "      <td>2016.0</td>\n",
       "      <td>9</td>\n",
       "    </tr>\n",
       "    <tr>\n",
       "      <th>3002457</th>\n",
       "      <td>0</td>\n",
       "      <td>1</td>\n",
       "      <td>65021.0</td>\n",
       "      <td>2016.0</td>\n",
       "      <td>9</td>\n",
       "    </tr>\n",
       "  </tbody>\n",
       "</table>\n",
       "<p>3002458 rows × 5 columns</p>\n",
       "</div>"
      ],
      "text/plain": [
       "         CASE_STATUS  FULL_TIME_POSITION  PREVAILING_WAGE    YEAR  SOC_N\n",
       "0                  1                   0          36067.0  2016.0     15\n",
       "1                  1                   1         242674.0  2016.0      6\n",
       "2                  1                   1         193066.0  2016.0      6\n",
       "3                  1                   1         220314.0  2016.0      6\n",
       "4                  3                   1         157518.4  2016.0      6\n",
       "...              ...                 ...              ...     ...    ...\n",
       "3002453            0                   1          65021.0  2016.0      9\n",
       "3002454            0                   1          65021.0  2016.0      9\n",
       "3002455            0                   1          65021.0  2016.0      9\n",
       "3002456            0                   1          65021.0  2016.0      9\n",
       "3002457            0                   1          65021.0  2016.0      9\n",
       "\n",
       "[3002458 rows x 5 columns]"
      ]
     },
     "execution_count": 39,
     "metadata": {},
     "output_type": "execute_result"
    }
   ],
   "source": [
    "df"
   ]
  },
  {
   "cell_type": "markdown",
   "id": "3b81e326",
   "metadata": {},
   "source": [
    "# Correlation of all the variables using corr() table and heatmap"
   ]
  },
  {
   "cell_type": "code",
   "execution_count": 40,
   "id": "09fa79d0",
   "metadata": {},
   "outputs": [
    {
     "data": {
      "text/html": [
       "<div>\n",
       "<style scoped>\n",
       "    .dataframe tbody tr th:only-of-type {\n",
       "        vertical-align: middle;\n",
       "    }\n",
       "\n",
       "    .dataframe tbody tr th {\n",
       "        vertical-align: top;\n",
       "    }\n",
       "\n",
       "    .dataframe thead th {\n",
       "        text-align: right;\n",
       "    }\n",
       "</style>\n",
       "<table border=\"1\" class=\"dataframe\">\n",
       "  <thead>\n",
       "    <tr style=\"text-align: right;\">\n",
       "      <th></th>\n",
       "      <th>CASE_STATUS</th>\n",
       "      <th>FULL_TIME_POSITION</th>\n",
       "      <th>PREVAILING_WAGE</th>\n",
       "      <th>YEAR</th>\n",
       "      <th>SOC_N</th>\n",
       "    </tr>\n",
       "  </thead>\n",
       "  <tbody>\n",
       "    <tr>\n",
       "      <th>CASE_STATUS</th>\n",
       "      <td>1.000000</td>\n",
       "      <td>-0.010730</td>\n",
       "      <td>0.040770</td>\n",
       "      <td>-0.039020</td>\n",
       "      <td>0.023508</td>\n",
       "    </tr>\n",
       "    <tr>\n",
       "      <th>FULL_TIME_POSITION</th>\n",
       "      <td>-0.010730</td>\n",
       "      <td>1.000000</td>\n",
       "      <td>0.005977</td>\n",
       "      <td>-0.388607</td>\n",
       "      <td>-0.262960</td>\n",
       "    </tr>\n",
       "    <tr>\n",
       "      <th>PREVAILING_WAGE</th>\n",
       "      <td>0.040770</td>\n",
       "      <td>0.005977</td>\n",
       "      <td>1.000000</td>\n",
       "      <td>-0.007856</td>\n",
       "      <td>-0.004198</td>\n",
       "    </tr>\n",
       "    <tr>\n",
       "      <th>YEAR</th>\n",
       "      <td>-0.039020</td>\n",
       "      <td>-0.388607</td>\n",
       "      <td>-0.007856</td>\n",
       "      <td>1.000000</td>\n",
       "      <td>0.467673</td>\n",
       "    </tr>\n",
       "    <tr>\n",
       "      <th>SOC_N</th>\n",
       "      <td>0.023508</td>\n",
       "      <td>-0.262960</td>\n",
       "      <td>-0.004198</td>\n",
       "      <td>0.467673</td>\n",
       "      <td>1.000000</td>\n",
       "    </tr>\n",
       "  </tbody>\n",
       "</table>\n",
       "</div>"
      ],
      "text/plain": [
       "                    CASE_STATUS  FULL_TIME_POSITION  PREVAILING_WAGE  \\\n",
       "CASE_STATUS            1.000000           -0.010730         0.040770   \n",
       "FULL_TIME_POSITION    -0.010730            1.000000         0.005977   \n",
       "PREVAILING_WAGE        0.040770            0.005977         1.000000   \n",
       "YEAR                  -0.039020           -0.388607        -0.007856   \n",
       "SOC_N                  0.023508           -0.262960        -0.004198   \n",
       "\n",
       "                        YEAR     SOC_N  \n",
       "CASE_STATUS        -0.039020  0.023508  \n",
       "FULL_TIME_POSITION -0.388607 -0.262960  \n",
       "PREVAILING_WAGE    -0.007856 -0.004198  \n",
       "YEAR                1.000000  0.467673  \n",
       "SOC_N               0.467673  1.000000  "
      ]
     },
     "execution_count": 40,
     "metadata": {},
     "output_type": "execute_result"
    }
   ],
   "source": [
    "df.corr()"
   ]
  },
  {
   "cell_type": "code",
   "execution_count": 41,
   "id": "797ffb73",
   "metadata": {},
   "outputs": [
    {
     "data": {
      "text/plain": [
       "<AxesSubplot:>"
      ]
     },
     "execution_count": 41,
     "metadata": {},
     "output_type": "execute_result"
    },
    {
     "data": {
      "image/png": "[encoded data removed]",
      "text/plain": [
       "<Figure size 432x288 with 2 Axes>"
      ]
     },
     "metadata": {},
     "output_type": "display_data"
    }
   ],
   "source": [
    "sns.heatmap(df.corr(), annot=True, cmap=\"RdYlGn\", annot_kws={\"size\":15})"
   ]
  },
  {
   "cell_type": "markdown",
   "id": "d5020d2f",
   "metadata": {},
   "source": [
    "# Removal of Outliers"
   ]
  },
  {
   "cell_type": "code",
   "execution_count": 42,
   "id": "ff379b20",
   "metadata": {},
   "outputs": [],
   "source": [
    "from scipy import stats"
   ]
  },
  {
   "cell_type": "code",
   "execution_count": 43,
   "id": "f772c88c",
   "metadata": {},
   "outputs": [
    {
     "data": {
      "text/plain": [
       "array([[1.21206148, 2.45815681, 0.02097937, 1.27630201, 0.80450972],\n",
       "       [1.21206148, 0.40680887, 0.01809499, 1.27630201, 1.98842298],\n",
       "       [1.21206148, 0.40680887, 0.00871293, 1.27630201, 1.98842298],\n",
       "       ...,\n",
       "       [0.34205146, 0.40680887, 0.01550347, 1.27630201, 1.05744541],\n",
       "       [0.34205146, 0.40680887, 0.01550347, 1.27630201, 1.05744541],\n",
       "       [0.34205146, 0.40680887, 0.01550347, 1.27630201, 1.05744541]])"
      ]
     },
     "execution_count": 43,
     "metadata": {},
     "output_type": "execute_result"
    }
   ],
   "source": [
    "z=np.abs(stats.zscore(df))\n",
    "z"
   ]
  },
  {
   "cell_type": "code",
   "execution_count": 44,
   "id": "9870e70a",
   "metadata": {},
   "outputs": [
    {
     "data": {
      "text/plain": [
       "(3002458, 5)"
      ]
     },
     "execution_count": 44,
     "metadata": {},
     "output_type": "execute_result"
    }
   ],
   "source": [
    "z.shape"
   ]
  },
  {
   "cell_type": "code",
   "execution_count": 45,
   "id": "a3eb0d96",
   "metadata": {},
   "outputs": [
    {
     "data": {
      "text/plain": [
       "(array([      4,       9,      69, ..., 3002442, 3002443, 3002444],\n",
       "       dtype=int64), array([0, 0, 0, ..., 0, 0, 0], dtype=int64))"
      ]
     },
     "execution_count": 45,
     "metadata": {},
     "output_type": "execute_result"
    }
   ],
   "source": [
    "threshold=3\n",
    "np.where(z>threshold)"
   ]
  },
  {
   "cell_type": "code",
   "execution_count": 46,
   "id": "2dcd5136",
   "metadata": {},
   "outputs": [
    {
     "data": {
      "text/html": [
       "<div>\n",
       "<style scoped>\n",
       "    .dataframe tbody tr th:only-of-type {\n",
       "        vertical-align: middle;\n",
       "    }\n",
       "\n",
       "    .dataframe tbody tr th {\n",
       "        vertical-align: top;\n",
       "    }\n",
       "\n",
       "    .dataframe thead th {\n",
       "        text-align: right;\n",
       "    }\n",
       "</style>\n",
       "<table border=\"1\" class=\"dataframe\">\n",
       "  <thead>\n",
       "    <tr style=\"text-align: right;\">\n",
       "      <th></th>\n",
       "      <th>CASE_STATUS</th>\n",
       "      <th>FULL_TIME_POSITION</th>\n",
       "      <th>PREVAILING_WAGE</th>\n",
       "      <th>YEAR</th>\n",
       "      <th>SOC_N</th>\n",
       "    </tr>\n",
       "  </thead>\n",
       "  <tbody>\n",
       "    <tr>\n",
       "      <th>0</th>\n",
       "      <td>1</td>\n",
       "      <td>0</td>\n",
       "      <td>36067.0</td>\n",
       "      <td>2016.0</td>\n",
       "      <td>15</td>\n",
       "    </tr>\n",
       "    <tr>\n",
       "      <th>1</th>\n",
       "      <td>1</td>\n",
       "      <td>1</td>\n",
       "      <td>242674.0</td>\n",
       "      <td>2016.0</td>\n",
       "      <td>6</td>\n",
       "    </tr>\n",
       "    <tr>\n",
       "      <th>2</th>\n",
       "      <td>1</td>\n",
       "      <td>1</td>\n",
       "      <td>193066.0</td>\n",
       "      <td>2016.0</td>\n",
       "      <td>6</td>\n",
       "    </tr>\n",
       "    <tr>\n",
       "      <th>3</th>\n",
       "      <td>1</td>\n",
       "      <td>1</td>\n",
       "      <td>220314.0</td>\n",
       "      <td>2016.0</td>\n",
       "      <td>6</td>\n",
       "    </tr>\n",
       "    <tr>\n",
       "      <th>4</th>\n",
       "      <td>3</td>\n",
       "      <td>1</td>\n",
       "      <td>157518.4</td>\n",
       "      <td>2016.0</td>\n",
       "      <td>6</td>\n",
       "    </tr>\n",
       "    <tr>\n",
       "      <th>...</th>\n",
       "      <td>...</td>\n",
       "      <td>...</td>\n",
       "      <td>...</td>\n",
       "      <td>...</td>\n",
       "      <td>...</td>\n",
       "    </tr>\n",
       "    <tr>\n",
       "      <th>3002453</th>\n",
       "      <td>0</td>\n",
       "      <td>1</td>\n",
       "      <td>65021.0</td>\n",
       "      <td>2016.0</td>\n",
       "      <td>9</td>\n",
       "    </tr>\n",
       "    <tr>\n",
       "      <th>3002454</th>\n",
       "      <td>0</td>\n",
       "      <td>1</td>\n",
       "      <td>65021.0</td>\n",
       "      <td>2016.0</td>\n",
       "      <td>9</td>\n",
       "    </tr>\n",
       "    <tr>\n",
       "      <th>3002455</th>\n",
       "      <td>0</td>\n",
       "      <td>1</td>\n",
       "      <td>65021.0</td>\n",
       "      <td>2016.0</td>\n",
       "      <td>9</td>\n",
       "    </tr>\n",
       "    <tr>\n",
       "      <th>3002456</th>\n",
       "      <td>0</td>\n",
       "      <td>1</td>\n",
       "      <td>65021.0</td>\n",
       "      <td>2016.0</td>\n",
       "      <td>9</td>\n",
       "    </tr>\n",
       "    <tr>\n",
       "      <th>3002457</th>\n",
       "      <td>0</td>\n",
       "      <td>1</td>\n",
       "      <td>65021.0</td>\n",
       "      <td>2016.0</td>\n",
       "      <td>9</td>\n",
       "    </tr>\n",
       "  </tbody>\n",
       "</table>\n",
       "<p>3002458 rows × 5 columns</p>\n",
       "</div>"
      ],
      "text/plain": [
       "         CASE_STATUS  FULL_TIME_POSITION  PREVAILING_WAGE    YEAR  SOC_N\n",
       "0                  1                   0          36067.0  2016.0     15\n",
       "1                  1                   1         242674.0  2016.0      6\n",
       "2                  1                   1         193066.0  2016.0      6\n",
       "3                  1                   1         220314.0  2016.0      6\n",
       "4                  3                   1         157518.4  2016.0      6\n",
       "...              ...                 ...              ...     ...    ...\n",
       "3002453            0                   1          65021.0  2016.0      9\n",
       "3002454            0                   1          65021.0  2016.0      9\n",
       "3002455            0                   1          65021.0  2016.0      9\n",
       "3002456            0                   1          65021.0  2016.0      9\n",
       "3002457            0                   1          65021.0  2016.0      9\n",
       "\n",
       "[3002458 rows x 5 columns]"
      ]
     },
     "execution_count": 46,
     "metadata": {},
     "output_type": "execute_result"
    }
   ],
   "source": [
    "clean_df= pd.DataFrame(df)\n",
    "clean_df"
   ]
  },
  {
   "cell_type": "code",
   "execution_count": 47,
   "id": "83401992",
   "metadata": {},
   "outputs": [
    {
     "data": {
      "text/html": [
       "<div>\n",
       "<style scoped>\n",
       "    .dataframe tbody tr th:only-of-type {\n",
       "        vertical-align: middle;\n",
       "    }\n",
       "\n",
       "    .dataframe tbody tr th {\n",
       "        vertical-align: top;\n",
       "    }\n",
       "\n",
       "    .dataframe thead th {\n",
       "        text-align: right;\n",
       "    }\n",
       "</style>\n",
       "<table border=\"1\" class=\"dataframe\">\n",
       "  <thead>\n",
       "    <tr style=\"text-align: right;\">\n",
       "      <th></th>\n",
       "      <th>CASE_STATUS</th>\n",
       "      <th>FULL_TIME_POSITION</th>\n",
       "      <th>PREVAILING_WAGE</th>\n",
       "      <th>YEAR</th>\n",
       "      <th>SOC_N</th>\n",
       "    </tr>\n",
       "  </thead>\n",
       "  <tbody>\n",
       "    <tr>\n",
       "      <th>0</th>\n",
       "      <td>1</td>\n",
       "      <td>0</td>\n",
       "      <td>36067.0</td>\n",
       "      <td>2016.0</td>\n",
       "      <td>15</td>\n",
       "    </tr>\n",
       "    <tr>\n",
       "      <th>1</th>\n",
       "      <td>1</td>\n",
       "      <td>1</td>\n",
       "      <td>242674.0</td>\n",
       "      <td>2016.0</td>\n",
       "      <td>6</td>\n",
       "    </tr>\n",
       "    <tr>\n",
       "      <th>2</th>\n",
       "      <td>1</td>\n",
       "      <td>1</td>\n",
       "      <td>193066.0</td>\n",
       "      <td>2016.0</td>\n",
       "      <td>6</td>\n",
       "    </tr>\n",
       "    <tr>\n",
       "      <th>3</th>\n",
       "      <td>1</td>\n",
       "      <td>1</td>\n",
       "      <td>220314.0</td>\n",
       "      <td>2016.0</td>\n",
       "      <td>6</td>\n",
       "    </tr>\n",
       "    <tr>\n",
       "      <th>5</th>\n",
       "      <td>1</td>\n",
       "      <td>1</td>\n",
       "      <td>225000.0</td>\n",
       "      <td>2016.0</td>\n",
       "      <td>6</td>\n",
       "    </tr>\n",
       "    <tr>\n",
       "      <th>...</th>\n",
       "      <td>...</td>\n",
       "      <td>...</td>\n",
       "      <td>...</td>\n",
       "      <td>...</td>\n",
       "      <td>...</td>\n",
       "    </tr>\n",
       "    <tr>\n",
       "      <th>3002453</th>\n",
       "      <td>0</td>\n",
       "      <td>1</td>\n",
       "      <td>65021.0</td>\n",
       "      <td>2016.0</td>\n",
       "      <td>9</td>\n",
       "    </tr>\n",
       "    <tr>\n",
       "      <th>3002454</th>\n",
       "      <td>0</td>\n",
       "      <td>1</td>\n",
       "      <td>65021.0</td>\n",
       "      <td>2016.0</td>\n",
       "      <td>9</td>\n",
       "    </tr>\n",
       "    <tr>\n",
       "      <th>3002455</th>\n",
       "      <td>0</td>\n",
       "      <td>1</td>\n",
       "      <td>65021.0</td>\n",
       "      <td>2016.0</td>\n",
       "      <td>9</td>\n",
       "    </tr>\n",
       "    <tr>\n",
       "      <th>3002456</th>\n",
       "      <td>0</td>\n",
       "      <td>1</td>\n",
       "      <td>65021.0</td>\n",
       "      <td>2016.0</td>\n",
       "      <td>9</td>\n",
       "    </tr>\n",
       "    <tr>\n",
       "      <th>3002457</th>\n",
       "      <td>0</td>\n",
       "      <td>1</td>\n",
       "      <td>65021.0</td>\n",
       "      <td>2016.0</td>\n",
       "      <td>9</td>\n",
       "    </tr>\n",
       "  </tbody>\n",
       "</table>\n",
       "<p>2875910 rows × 5 columns</p>\n",
       "</div>"
      ],
      "text/plain": [
       "         CASE_STATUS  FULL_TIME_POSITION  PREVAILING_WAGE    YEAR  SOC_N\n",
       "0                  1                   0          36067.0  2016.0     15\n",
       "1                  1                   1         242674.0  2016.0      6\n",
       "2                  1                   1         193066.0  2016.0      6\n",
       "3                  1                   1         220314.0  2016.0      6\n",
       "5                  1                   1         225000.0  2016.0      6\n",
       "...              ...                 ...              ...     ...    ...\n",
       "3002453            0                   1          65021.0  2016.0      9\n",
       "3002454            0                   1          65021.0  2016.0      9\n",
       "3002455            0                   1          65021.0  2016.0      9\n",
       "3002456            0                   1          65021.0  2016.0      9\n",
       "3002457            0                   1          65021.0  2016.0      9\n",
       "\n",
       "[2875910 rows x 5 columns]"
      ]
     },
     "execution_count": 47,
     "metadata": {},
     "output_type": "execute_result"
    }
   ],
   "source": [
    "df_no_outliers=clean_df[(z<=3).all(axis=1)]\n",
    "df_no_outliers"
   ]
  },
  {
   "cell_type": "code",
   "execution_count": 48,
   "id": "6865a3e9",
   "metadata": {},
   "outputs": [
    {
     "data": {
      "text/plain": [
       "(2875910, 5)"
      ]
     },
     "execution_count": 48,
     "metadata": {},
     "output_type": "execute_result"
    }
   ],
   "source": [
    "df_no_outliers.shape"
   ]
  },
  {
   "cell_type": "markdown",
   "id": "277888f7",
   "metadata": {},
   "source": [
    "# Bi-furcating dataframe in dependent 'y' and independent 'x' dataframe"
   ]
  },
  {
   "cell_type": "code",
   "execution_count": 49,
   "id": "b3cfbd8e",
   "metadata": {},
   "outputs": [],
   "source": [
    "selcols=[\"FULL_TIME_POSITION\",\"PREVAILING_WAGE\",\"YEAR\",\"SOC_N\"]\n",
    "x=pd.DataFrame(df_no_outliers,columns=selcols)\n",
    "y=pd.DataFrame(df_no_outliers,columns=['CASE_STATUS'])"
   ]
  },
  {
   "cell_type": "markdown",
   "id": "17852093",
   "metadata": {},
   "source": [
    "# Feature Importance of independent variables in x to predict y"
   ]
  },
  {
   "cell_type": "code",
   "execution_count": 50,
   "id": "78e1d243",
   "metadata": {},
   "outputs": [
    {
     "data": {
      "text/plain": [
       "ExtraTreesRegressor()"
      ]
     },
     "execution_count": 50,
     "metadata": {},
     "output_type": "execute_result"
    }
   ],
   "source": [
    "from sklearn.ensemble import ExtraTreesRegressor\n",
    "model = ExtraTreesRegressor()\n",
    "model.fit(x,y.values.ravel())"
   ]
  },
  {
   "cell_type": "code",
   "execution_count": 51,
   "id": "7662496f",
   "metadata": {},
   "outputs": [
    {
     "name": "stdout",
     "output_type": "stream",
     "text": [
      "[0.00962044 0.91105138 0.03445108 0.0448771 ]\n"
     ]
    }
   ],
   "source": [
    "print(model.feature_importances_)"
   ]
  },
  {
   "cell_type": "code",
   "execution_count": 52,
   "id": "a0696d2c",
   "metadata": {},
   "outputs": [
    {
     "data": {
      "image/png": "[encoded data removed]",
      "text/plain": [
       "<Figure size 432x288 with 1 Axes>"
      ]
     },
     "metadata": {},
     "output_type": "display_data"
    }
   ],
   "source": [
    "#Plot graph for feature importances for better visualization\n",
    "feat_importances = pd.Series(model.feature_importances_, index=x.columns)\n",
    "feat_importances.nlargest(5).plot(kind='barh')\n",
    "plt.show()"
   ]
  },
  {
   "cell_type": "markdown",
   "id": "311d62f3",
   "metadata": {},
   "source": [
    "Prevailing wage has the highest feature importance followed by SOC_N"
   ]
  },
  {
   "cell_type": "markdown",
   "id": "1a9c73bd",
   "metadata": {},
   "source": [
    "# Splitting of data in training and test dataset "
   ]
  },
  {
   "cell_type": "code",
   "execution_count": 53,
   "id": "9e064246",
   "metadata": {},
   "outputs": [],
   "source": [
    "from sklearn.model_selection import train_test_split\n",
    "\n",
    "x_train, x_test, y_train, y_test = train_test_split(x, y, test_size = 0.25, random_state = 42)"
   ]
  },
  {
   "cell_type": "markdown",
   "id": "164d9fa2",
   "metadata": {},
   "source": [
    "# Logistic Regression"
   ]
  },
  {
   "cell_type": "code",
   "execution_count": 54,
   "id": "b008450f",
   "metadata": {},
   "outputs": [],
   "source": [
    "from sklearn.linear_model import LogisticRegression\n",
    "from sklearn import metrics\n",
    "LogReg = LogisticRegression()\n",
    "LogReg.fit(x_train, y_train.values.ravel())\n",
    "y_pred = LogReg.predict(x_test)"
   ]
  },
  {
   "cell_type": "code",
   "execution_count": 55,
   "id": "8e47039d",
   "metadata": {},
   "outputs": [
    {
     "name": "stdout",
     "output_type": "stream",
     "text": [
      "[0 0 0 ... 0 0 0]\n"
     ]
    }
   ],
   "source": [
    "print(y_pred)"
   ]
  },
  {
   "cell_type": "code",
   "execution_count": 56,
   "id": "a1d3919a",
   "metadata": {},
   "outputs": [],
   "source": [
    "# Saving L.R model using joblib"
   ]
  },
  {
   "cell_type": "code",
   "execution_count": 62,
   "id": "0848748d",
   "metadata": {},
   "outputs": [
    {
     "data": {
      "text/plain": [
       "['logreg.save']"
      ]
     },
     "execution_count": 62,
     "metadata": {},
     "output_type": "execute_result"
    }
   ],
   "source": [
    "import joblib\n",
    "joblib.dump(LogReg,\"logreg.save\")"
   ]
  },
  {
   "cell_type": "markdown",
   "id": "f846a6cf",
   "metadata": {},
   "source": [
    "# Accuracy test for L.R model"
   ]
  },
  {
   "cell_type": "code",
   "execution_count": 70,
   "id": "f7bdd08a",
   "metadata": {},
   "outputs": [
    {
     "data": {
      "text/plain": [
       "array([[645725,      0,      0],\n",
       "       [ 50547,      0,      1],\n",
       "       [ 22674,      0,     31]], dtype=int64)"
      ]
     },
     "execution_count": 70,
     "metadata": {},
     "output_type": "execute_result"
    }
   ],
   "source": [
    "from sklearn.metrics import confusion_matrix\n",
    "confusion_matrix = confusion_matrix(y_test, y_pred)\n",
    "confusion_matrix"
   ]
  },
  {
   "cell_type": "code",
   "execution_count": 61,
   "id": "d2649d68",
   "metadata": {
    "scrolled": true
   },
   "outputs": [
    {
     "name": "stderr",
     "output_type": "stream",
     "text": [
      "C:\\Users\\ARYAMAN\\Anaconda3\\lib\\site-packages\\sklearn\\metrics\\_classification.py:1248: UndefinedMetricWarning: Precision and F-score are ill-defined and being set to 0.0 in labels with no predicted samples. Use `zero_division` parameter to control this behavior.\n",
      "  _warn_prf(average, modifier, msg_start, len(result))\n",
      "C:\\Users\\ARYAMAN\\Anaconda3\\lib\\site-packages\\sklearn\\metrics\\_classification.py:1248: UndefinedMetricWarning: Precision and F-score are ill-defined and being set to 0.0 in labels with no predicted samples. Use `zero_division` parameter to control this behavior.\n",
      "  _warn_prf(average, modifier, msg_start, len(result))\n"
     ]
    },
    {
     "name": "stdout",
     "output_type": "stream",
     "text": [
      "              precision    recall  f1-score   support\n",
      "\n",
      "           0       0.90      1.00      0.95    645725\n",
      "           1       0.00      0.00      0.00     50548\n",
      "           2       0.97      0.00      0.00     22705\n",
      "\n",
      "    accuracy                           0.90    718978\n",
      "   macro avg       0.62      0.33      0.32    718978\n",
      "weighted avg       0.84      0.90      0.85    718978\n",
      "\n"
     ]
    },
    {
     "name": "stderr",
     "output_type": "stream",
     "text": [
      "C:\\Users\\ARYAMAN\\Anaconda3\\lib\\site-packages\\sklearn\\metrics\\_classification.py:1248: UndefinedMetricWarning: Precision and F-score are ill-defined and being set to 0.0 in labels with no predicted samples. Use `zero_division` parameter to control this behavior.\n",
      "  _warn_prf(average, modifier, msg_start, len(result))\n"
     ]
    }
   ],
   "source": [
    "from sklearn.metrics import classification_report\n",
    "print(classification_report(y_test, y_pred))"
   ]
  },
  {
   "cell_type": "markdown",
   "id": "253fc385",
   "metadata": {},
   "source": [
    "# Decision tree Classifier"
   ]
  },
  {
   "cell_type": "code",
   "execution_count": 66,
   "id": "2afea261",
   "metadata": {},
   "outputs": [
    {
     "name": "stdout",
     "output_type": "stream",
     "text": [
      "[0 0 0 ... 0 0 0]\n"
     ]
    }
   ],
   "source": [
    "from sklearn import tree\n",
    "model_dt = tree.DecisionTreeClassifier()\n",
    "model_dt.fit(x_train, y_train)\n",
    "y_pred_dt = model_dt.predict(x_test)\n",
    "print(y_pred_dt)"
   ]
  },
  {
   "cell_type": "markdown",
   "id": "8ef5a17e",
   "metadata": {},
   "source": [
    "# Accuracy test"
   ]
  },
  {
   "cell_type": "code",
   "execution_count": 71,
   "id": "692b3740",
   "metadata": {},
   "outputs": [
    {
     "data": {
      "text/plain": [
       "array([[637058,   5571,   3096],\n",
       "       [ 43494,   6864,    190],\n",
       "       [ 21264,    304,   1137]], dtype=int64)"
      ]
     },
     "execution_count": 71,
     "metadata": {},
     "output_type": "execute_result"
    }
   ],
   "source": [
    "from sklearn.metrics import confusion_matrix\n",
    "confusion_matrix_dt = confusion_matrix(y_test, y_pred_dt)\n",
    "confusion_matrix_dt"
   ]
  },
  {
   "cell_type": "code",
   "execution_count": 72,
   "id": "f67e6b5e",
   "metadata": {},
   "outputs": [
    {
     "name": "stdout",
     "output_type": "stream",
     "text": [
      "              precision    recall  f1-score   support\n",
      "\n",
      "           0       0.91      0.99      0.95    645725\n",
      "           1       0.54      0.14      0.22     50548\n",
      "           2       0.26      0.05      0.08     22705\n",
      "\n",
      "    accuracy                           0.90    718978\n",
      "   macro avg       0.57      0.39      0.42    718978\n",
      "weighted avg       0.86      0.90      0.87    718978\n",
      "\n"
     ]
    }
   ],
   "source": [
    "print(classification_report(y_test, y_pred_dt))"
   ]
  },
  {
   "cell_type": "markdown",
   "id": "d924b2cb",
   "metadata": {},
   "source": [
    "# Random Forest Classification"
   ]
  },
  {
   "cell_type": "code",
   "execution_count": 62,
   "id": "bcecb8ca",
   "metadata": {},
   "outputs": [],
   "source": [
    "#from sklearn.model_selection import GridSearchCV\n",
    "#n_estimators = [100, 300, 500, 800, 1200]\n",
    "#max_depth = [5, 8, 15, 25, 30]\n",
    "#min_samples_split = [2, 5, 10, 15, 100]\n",
    "#min_samples_leaf = [1, 2, 5, 10] \n",
    "\n",
    "#hyperF = dict(n_estimators = n_estimators, max_depth = max_depth, min_samples_split = min_samples_split,min_samples_leaf = min_samples_leaf)\n",
    "#gridF = GridSearchCV(forest, hyperF, cv = 3, verbose = 1, n_jobs = -1)\n",
    "#bestF = gridF.fit(x_train, y_train)"
   ]
  },
  {
   "cell_type": "markdown",
   "id": "b669aecd",
   "metadata": {},
   "source": [
    "NOTE: We tried to use GridSearchCV to get the optimal performance of model by tuning the hyperparameters, but since the dataset enteries were quite large, it simply didn't work.  "
   ]
  },
  {
   "cell_type": "code",
   "execution_count": 71,
   "id": "37c6d028",
   "metadata": {},
   "outputs": [
    {
     "data": {
      "text/plain": [
       "RandomForestClassifier()"
      ]
     },
     "execution_count": 71,
     "metadata": {},
     "output_type": "execute_result"
    }
   ],
   "source": [
    "from sklearn.ensemble import RandomForestClassifier\n",
    "rf = RandomForestClassifier()\n",
    "rf.fit(x_train, y_train.values.ravel())"
   ]
  },
  {
   "cell_type": "code",
   "execution_count": 63,
   "id": "93ce83f9",
   "metadata": {},
   "outputs": [
    {
     "data": {
      "text/plain": [
       "['rf.save']"
      ]
     },
     "execution_count": 63,
     "metadata": {},
     "output_type": "execute_result"
    }
   ],
   "source": [
    "joblib.dump(rf,\"rf.save\")"
   ]
  },
  {
   "cell_type": "code",
   "execution_count": 72,
   "id": "5845fc5a",
   "metadata": {},
   "outputs": [
    {
     "name": "stdout",
     "output_type": "stream",
     "text": [
      "[0 0 0 ... 0 0 0]\n"
     ]
    }
   ],
   "source": [
    "y_pred_rf =rf.predict(x_test)\n",
    "print(y_pred_rf)"
   ]
  },
  {
   "cell_type": "markdown",
   "id": "628273a3",
   "metadata": {},
   "source": [
    "# Accuracy test for Random forest"
   ]
  },
  {
   "cell_type": "code",
   "execution_count": 73,
   "id": "fadb330d",
   "metadata": {},
   "outputs": [
    {
     "name": "stdout",
     "output_type": "stream",
     "text": [
      "              precision    recall  f1-score   support\n",
      "\n",
      "           0       0.91      0.98      0.94    645725\n",
      "           1       0.52      0.14      0.22     50548\n",
      "           2       0.25      0.06      0.09     22705\n",
      "\n",
      "    accuracy                           0.90    718978\n",
      "   macro avg       0.56      0.39      0.42    718978\n",
      "weighted avg       0.86      0.90      0.87    718978\n",
      "\n"
     ]
    }
   ],
   "source": [
    "from sklearn.metrics import classification_report\n",
    "print(classification_report(y_test, y_pred_rf))"
   ]
  },
  {
   "cell_type": "markdown",
   "id": "abf26729",
   "metadata": {},
   "source": [
    "# Another accuracy test to compare which algorithm is better"
   ]
  },
  {
   "cell_type": "code",
   "execution_count": 78,
   "id": "a07cf19d",
   "metadata": {},
   "outputs": [
    {
     "data": {
      "text/plain": [
       "0.8981582190275641"
      ]
     },
     "execution_count": 78,
     "metadata": {},
     "output_type": "execute_result"
    }
   ],
   "source": [
    "# Logistic Regression\n",
    "from sklearn.metrics import accuracy_score\n",
    "accuracy_score(y_test,y_pred)"
   ]
  },
  {
   "cell_type": "code",
   "execution_count": 79,
   "id": "477e4abd",
   "metadata": {},
   "outputs": [
    {
     "data": {
      "text/plain": [
       "0.8971887874176957"
      ]
     },
     "execution_count": 79,
     "metadata": {},
     "output_type": "execute_result"
    }
   ],
   "source": [
    "# Decision Tree\n",
    "from sklearn.metrics import accuracy_score\n",
    "accuracy_score(y_test,y_pred_dt)"
   ]
  },
  {
   "cell_type": "code",
   "execution_count": 75,
   "id": "bd9c678e",
   "metadata": {},
   "outputs": [
    {
     "data": {
      "text/plain": [
       "0.8960802694936424"
      ]
     },
     "execution_count": 75,
     "metadata": {},
     "output_type": "execute_result"
    }
   ],
   "source": [
    "# Random Forest classification\n",
    "from sklearn.metrics import accuracy_score\n",
    "accuracy_score(y_test,y_pred_rf)"
   ]
  },
  {
   "cell_type": "markdown",
   "id": "54bffd7a",
   "metadata": {},
   "source": [
    "# Conclusion"
   ]
  },
  {
   "cell_type": "markdown",
   "id": "3df6dad3",
   "metadata": {},
   "source": [
    "At the end of our modelling step, we build three models: Logistic Regression, Decision Tree and Random Forest, We noticed that the Logistic Regression gave a better result compared to others. Hence, it will be selected to deploy the web application using IBM cloud."
   ]
  }
 ],
 "metadata": {
  "kernelspec": {
   "display_name": "Python 3",
   "language": "python",
   "name": "python3"
  },
  "language_info": {
   "codemirror_mode": {
    "name": "ipython",
    "version": 3
   },
   "file_extension": ".py",
   "mimetype": "text/x-python",
   "name": "python",
   "nbconvert_exporter": "python",
   "pygments_lexer": "ipython3",
   "version": "3.7.3"
  }
 },
 "nbformat": 4,
 "nbformat_minor": 5
}
